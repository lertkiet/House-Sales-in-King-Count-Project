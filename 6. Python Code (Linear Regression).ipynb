{
 "cells": [
  {
   "cell_type": "markdown",
   "id": "19d85c08-58d2-4997-b656-3b470c760526",
   "metadata": {},
   "source": [
    "## 6.4 Machine Learning"
   ]
  },
  {
   "cell_type": "markdown",
   "id": "def965fa-8889-4bab-bde7-1e4713ec2c21",
   "metadata": {},
   "source": [
    "### This script contains the following:\n",
    "\n",
    "#### 1. Importing libraries and data\n",
    "#### 2. Data cleaning\n",
    "#### 3. Hypothesis 1\n",
    "##### - Check for extreme values\n",
    "##### - Data prep for regression analysis\n",
    "##### - Regression analysis\n",
    "#### 4. Hypothesis 2\n",
    "##### - Check for extreme values\n",
    "##### - Data prep for regression analysis\n",
    "##### - Regression analysis\n",
    "#### 5. Reflections on the impact of possible data bias"
   ]
  },
  {
   "cell_type": "markdown",
   "id": "806bc1be-bfb2-4a3b-b775-e52b22910e1f",
   "metadata": {},
   "source": [
    "### 1. Importing libraries and data"
   ]
  },
  {
   "cell_type": "code",
   "execution_count": 1,
   "id": "bbe17d34-30a1-4f6c-ad17-7441cf85c367",
   "metadata": {},
   "outputs": [],
   "source": [
    "import pandas as pd\n",
    "import numpy as np\n",
    "import seaborn as sns\n",
    "import matplotlib\n",
    "import matplotlib.pyplot as plt\n",
    "import os\n",
    "import sklearn\n",
    "from sklearn.model_selection import train_test_split \n",
    "from sklearn.linear_model import LinearRegression\n",
    "from sklearn.metrics import mean_squared_error, r2_score"
   ]
  },
  {
   "cell_type": "code",
   "execution_count": 2,
   "id": "7bbb5a1d-5f76-47cb-aa48-46c6cbd53d93",
   "metadata": {},
   "outputs": [],
   "source": [
    "# Ensures that the graphs we create are displayed within the notebook without the need to \"call\" them specifically.\n",
    "%matplotlib inline"
   ]
  },
  {
   "cell_type": "code",
   "execution_count": 3,
   "id": "ff29679b-fadf-4177-b32f-29dd2de3c722",
   "metadata": {},
   "outputs": [],
   "source": [
    "path = r'C:\\Desktop\\Careerfoundry\\2. Data Analytics Immersion\\Achievement 6 - Advanced Analytics & Dashboard Design\\6.1 Sourcing Open Data'"
   ]
  },
  {
   "cell_type": "code",
   "execution_count": 4,
   "id": "0ea7b515-1afe-4642-a576-630fa9947c09",
   "metadata": {},
   "outputs": [],
   "source": [
    "df = pd.read_csv(os.path.join(path, '4. Cleaned Dateset with Python.csv'))"
   ]
  },
  {
   "cell_type": "code",
   "execution_count": 5,
   "id": "a2a7e0b1-cecc-4fd5-a86d-9d64bd5730ac",
   "metadata": {},
   "outputs": [
    {
     "data": {
      "text/html": [
       "<div>\n",
       "<style scoped>\n",
       "    .dataframe tbody tr th:only-of-type {\n",
       "        vertical-align: middle;\n",
       "    }\n",
       "\n",
       "    .dataframe tbody tr th {\n",
       "        vertical-align: top;\n",
       "    }\n",
       "\n",
       "    .dataframe thead th {\n",
       "        text-align: right;\n",
       "    }\n",
       "</style>\n",
       "<table border=\"1\" class=\"dataframe\">\n",
       "  <thead>\n",
       "    <tr style=\"text-align: right;\">\n",
       "      <th></th>\n",
       "      <th>Unnamed: 0</th>\n",
       "      <th>id</th>\n",
       "      <th>date</th>\n",
       "      <th>price</th>\n",
       "      <th>bedrooms</th>\n",
       "      <th>bathrooms</th>\n",
       "      <th>sqft_living</th>\n",
       "      <th>sqft_lot</th>\n",
       "      <th>floors</th>\n",
       "      <th>waterfront</th>\n",
       "      <th>...</th>\n",
       "      <th>sqft_above</th>\n",
       "      <th>sqft_basement</th>\n",
       "      <th>yr_built</th>\n",
       "      <th>yr_renovated</th>\n",
       "      <th>zipcode</th>\n",
       "      <th>lat</th>\n",
       "      <th>long</th>\n",
       "      <th>sqft_living15</th>\n",
       "      <th>sqft_lot15</th>\n",
       "      <th>City/Town</th>\n",
       "    </tr>\n",
       "  </thead>\n",
       "  <tbody>\n",
       "    <tr>\n",
       "      <th>0</th>\n",
       "      <td>0</td>\n",
       "      <td>7129300520</td>\n",
       "      <td>2014-10-13</td>\n",
       "      <td>221900</td>\n",
       "      <td>3</td>\n",
       "      <td>1.00</td>\n",
       "      <td>1180</td>\n",
       "      <td>5650</td>\n",
       "      <td>1.0</td>\n",
       "      <td>0</td>\n",
       "      <td>...</td>\n",
       "      <td>1180</td>\n",
       "      <td>0</td>\n",
       "      <td>1955</td>\n",
       "      <td>0</td>\n",
       "      <td>98178</td>\n",
       "      <td>47.5112</td>\n",
       "      <td>-122.257</td>\n",
       "      <td>1340</td>\n",
       "      <td>5650</td>\n",
       "      <td>Seattle</td>\n",
       "    </tr>\n",
       "    <tr>\n",
       "      <th>1</th>\n",
       "      <td>1</td>\n",
       "      <td>6414100192</td>\n",
       "      <td>2014-12-09</td>\n",
       "      <td>538000</td>\n",
       "      <td>3</td>\n",
       "      <td>2.25</td>\n",
       "      <td>2570</td>\n",
       "      <td>7242</td>\n",
       "      <td>2.0</td>\n",
       "      <td>0</td>\n",
       "      <td>...</td>\n",
       "      <td>2170</td>\n",
       "      <td>400</td>\n",
       "      <td>1951</td>\n",
       "      <td>1991</td>\n",
       "      <td>98125</td>\n",
       "      <td>47.7210</td>\n",
       "      <td>-122.319</td>\n",
       "      <td>1690</td>\n",
       "      <td>7639</td>\n",
       "      <td>Seattle</td>\n",
       "    </tr>\n",
       "    <tr>\n",
       "      <th>2</th>\n",
       "      <td>2</td>\n",
       "      <td>5631500400</td>\n",
       "      <td>2015-02-25</td>\n",
       "      <td>180000</td>\n",
       "      <td>2</td>\n",
       "      <td>1.00</td>\n",
       "      <td>770</td>\n",
       "      <td>10000</td>\n",
       "      <td>1.0</td>\n",
       "      <td>0</td>\n",
       "      <td>...</td>\n",
       "      <td>770</td>\n",
       "      <td>0</td>\n",
       "      <td>1933</td>\n",
       "      <td>0</td>\n",
       "      <td>98028</td>\n",
       "      <td>47.7379</td>\n",
       "      <td>-122.233</td>\n",
       "      <td>2720</td>\n",
       "      <td>8062</td>\n",
       "      <td>Kenmore/Bothell</td>\n",
       "    </tr>\n",
       "    <tr>\n",
       "      <th>3</th>\n",
       "      <td>3</td>\n",
       "      <td>2487200875</td>\n",
       "      <td>2014-12-09</td>\n",
       "      <td>604000</td>\n",
       "      <td>4</td>\n",
       "      <td>3.00</td>\n",
       "      <td>1960</td>\n",
       "      <td>5000</td>\n",
       "      <td>1.0</td>\n",
       "      <td>0</td>\n",
       "      <td>...</td>\n",
       "      <td>1050</td>\n",
       "      <td>910</td>\n",
       "      <td>1965</td>\n",
       "      <td>0</td>\n",
       "      <td>98136</td>\n",
       "      <td>47.5208</td>\n",
       "      <td>-122.393</td>\n",
       "      <td>1360</td>\n",
       "      <td>5000</td>\n",
       "      <td>Seattle</td>\n",
       "    </tr>\n",
       "    <tr>\n",
       "      <th>4</th>\n",
       "      <td>4</td>\n",
       "      <td>1954400510</td>\n",
       "      <td>2015-02-18</td>\n",
       "      <td>510000</td>\n",
       "      <td>3</td>\n",
       "      <td>2.00</td>\n",
       "      <td>1680</td>\n",
       "      <td>8080</td>\n",
       "      <td>1.0</td>\n",
       "      <td>0</td>\n",
       "      <td>...</td>\n",
       "      <td>1680</td>\n",
       "      <td>0</td>\n",
       "      <td>1987</td>\n",
       "      <td>0</td>\n",
       "      <td>98074</td>\n",
       "      <td>47.6168</td>\n",
       "      <td>-122.045</td>\n",
       "      <td>1800</td>\n",
       "      <td>7503</td>\n",
       "      <td>Sammamish/Redmond</td>\n",
       "    </tr>\n",
       "  </tbody>\n",
       "</table>\n",
       "<p>5 rows × 23 columns</p>\n",
       "</div>"
      ],
      "text/plain": [
       "   Unnamed: 0          id        date   price  bedrooms  bathrooms  \\\n",
       "0           0  7129300520  2014-10-13  221900         3       1.00   \n",
       "1           1  6414100192  2014-12-09  538000         3       2.25   \n",
       "2           2  5631500400  2015-02-25  180000         2       1.00   \n",
       "3           3  2487200875  2014-12-09  604000         4       3.00   \n",
       "4           4  1954400510  2015-02-18  510000         3       2.00   \n",
       "\n",
       "   sqft_living  sqft_lot  floors  waterfront  ...  sqft_above  sqft_basement  \\\n",
       "0         1180      5650     1.0           0  ...        1180              0   \n",
       "1         2570      7242     2.0           0  ...        2170            400   \n",
       "2          770     10000     1.0           0  ...         770              0   \n",
       "3         1960      5000     1.0           0  ...        1050            910   \n",
       "4         1680      8080     1.0           0  ...        1680              0   \n",
       "\n",
       "   yr_built  yr_renovated  zipcode      lat     long  sqft_living15  \\\n",
       "0      1955             0    98178  47.5112 -122.257           1340   \n",
       "1      1951          1991    98125  47.7210 -122.319           1690   \n",
       "2      1933             0    98028  47.7379 -122.233           2720   \n",
       "3      1965             0    98136  47.5208 -122.393           1360   \n",
       "4      1987             0    98074  47.6168 -122.045           1800   \n",
       "\n",
       "   sqft_lot15          City/Town  \n",
       "0        5650            Seattle  \n",
       "1        7639            Seattle  \n",
       "2        8062    Kenmore/Bothell  \n",
       "3        5000            Seattle  \n",
       "4        7503  Sammamish/Redmond  \n",
       "\n",
       "[5 rows x 23 columns]"
      ]
     },
     "execution_count": 5,
     "metadata": {},
     "output_type": "execute_result"
    }
   ],
   "source": [
    "df.head()"
   ]
  },
  {
   "cell_type": "markdown",
   "id": "22f8fd6b-5ecb-4317-a6de-f64e8feac0a9",
   "metadata": {},
   "source": [
    "### 2 Data cleaning"
   ]
  },
  {
   "cell_type": "markdown",
   "id": "353d7ac1-4315-4f12-8a73-b6bfc0c39770",
   "metadata": {},
   "source": [
    "#### 2.1 Consistency checks \n",
    "I am replacing values with 0 and 1 at 'sqft_basement' and 'yr_renovated' columns.\n",
    "- sqft_basement: 0 = no basement, 1 = has basement\n",
    "- yr_renovated: 0 = no renovation, 1 = has renovation"
   ]
  },
  {
   "cell_type": "code",
   "execution_count": 6,
   "id": "c07d073d-5353-46b3-b3ab-738520bd4140",
   "metadata": {},
   "outputs": [],
   "source": [
    "# Replace rows with sqft_basement values with 1\n",
    "df.loc[df['sqft_basement'] != 0, 'sqft_basement'] = 1"
   ]
  },
  {
   "cell_type": "code",
   "execution_count": 7,
   "id": "cfac60f4-8ae8-47e5-bd25-61f1c73febe0",
   "metadata": {},
   "outputs": [
    {
     "data": {
      "text/plain": [
       "sqft_basement\n",
       "0    13126\n",
       "1     8486\n",
       "Name: count, dtype: int64"
      ]
     },
     "execution_count": 7,
     "metadata": {},
     "output_type": "execute_result"
    }
   ],
   "source": [
    "df['sqft_basement'].value_counts()"
   ]
  },
  {
   "cell_type": "code",
   "execution_count": 8,
   "id": "85f1f03e-ef59-4209-85c2-c375624255a6",
   "metadata": {},
   "outputs": [],
   "source": [
    "# Replace rows with yr_renovated values with 1\n",
    "df.loc[df['yr_renovated'] != 0, 'yr_renovated'] = 1"
   ]
  },
  {
   "cell_type": "code",
   "execution_count": 9,
   "id": "770a258d-8eef-4689-a000-1f420455b193",
   "metadata": {},
   "outputs": [
    {
     "data": {
      "text/plain": [
       "yr_renovated\n",
       "0    20698\n",
       "1      914\n",
       "Name: count, dtype: int64"
      ]
     },
     "execution_count": 9,
     "metadata": {},
     "output_type": "execute_result"
    }
   ],
   "source": [
    "df['yr_renovated'].value_counts()"
   ]
  },
  {
   "cell_type": "code",
   "execution_count": 10,
   "id": "74da34fd-d90a-48db-9b39-42f75fd3d43b",
   "metadata": {},
   "outputs": [
    {
     "data": {
      "text/html": [
       "<div>\n",
       "<style scoped>\n",
       "    .dataframe tbody tr th:only-of-type {\n",
       "        vertical-align: middle;\n",
       "    }\n",
       "\n",
       "    .dataframe tbody tr th {\n",
       "        vertical-align: top;\n",
       "    }\n",
       "\n",
       "    .dataframe thead th {\n",
       "        text-align: right;\n",
       "    }\n",
       "</style>\n",
       "<table border=\"1\" class=\"dataframe\">\n",
       "  <thead>\n",
       "    <tr style=\"text-align: right;\">\n",
       "      <th></th>\n",
       "      <th>sqft_basement</th>\n",
       "      <th>yr_renovated</th>\n",
       "    </tr>\n",
       "  </thead>\n",
       "  <tbody>\n",
       "    <tr>\n",
       "      <th>0</th>\n",
       "      <td>0</td>\n",
       "      <td>0</td>\n",
       "    </tr>\n",
       "    <tr>\n",
       "      <th>1</th>\n",
       "      <td>1</td>\n",
       "      <td>1</td>\n",
       "    </tr>\n",
       "    <tr>\n",
       "      <th>2</th>\n",
       "      <td>0</td>\n",
       "      <td>0</td>\n",
       "    </tr>\n",
       "    <tr>\n",
       "      <th>3</th>\n",
       "      <td>1</td>\n",
       "      <td>0</td>\n",
       "    </tr>\n",
       "    <tr>\n",
       "      <th>4</th>\n",
       "      <td>0</td>\n",
       "      <td>0</td>\n",
       "    </tr>\n",
       "    <tr>\n",
       "      <th>...</th>\n",
       "      <td>...</td>\n",
       "      <td>...</td>\n",
       "    </tr>\n",
       "    <tr>\n",
       "      <th>21607</th>\n",
       "      <td>0</td>\n",
       "      <td>0</td>\n",
       "    </tr>\n",
       "    <tr>\n",
       "      <th>21608</th>\n",
       "      <td>0</td>\n",
       "      <td>0</td>\n",
       "    </tr>\n",
       "    <tr>\n",
       "      <th>21609</th>\n",
       "      <td>0</td>\n",
       "      <td>0</td>\n",
       "    </tr>\n",
       "    <tr>\n",
       "      <th>21610</th>\n",
       "      <td>0</td>\n",
       "      <td>0</td>\n",
       "    </tr>\n",
       "    <tr>\n",
       "      <th>21611</th>\n",
       "      <td>0</td>\n",
       "      <td>0</td>\n",
       "    </tr>\n",
       "  </tbody>\n",
       "</table>\n",
       "<p>21612 rows × 2 columns</p>\n",
       "</div>"
      ],
      "text/plain": [
       "       sqft_basement  yr_renovated\n",
       "0                  0             0\n",
       "1                  1             1\n",
       "2                  0             0\n",
       "3                  1             0\n",
       "4                  0             0\n",
       "...              ...           ...\n",
       "21607              0             0\n",
       "21608              0             0\n",
       "21609              0             0\n",
       "21610              0             0\n",
       "21611              0             0\n",
       "\n",
       "[21612 rows x 2 columns]"
      ]
     },
     "execution_count": 10,
     "metadata": {},
     "output_type": "execute_result"
    }
   ],
   "source": [
    "df[['sqft_basement','yr_renovated']]"
   ]
  },
  {
   "cell_type": "markdown",
   "id": "3d6cb5db-9a24-44fc-b947-00c5dc556995",
   "metadata": {},
   "source": [
    "#### 2.2 Check for missing values"
   ]
  },
  {
   "cell_type": "code",
   "execution_count": 11,
   "id": "ef9a94de-a6ed-4b45-8c09-b8e95f156828",
   "metadata": {},
   "outputs": [
    {
     "data": {
      "text/plain": [
       "Unnamed: 0       0\n",
       "id               0\n",
       "date             0\n",
       "price            0\n",
       "bedrooms         0\n",
       "bathrooms        0\n",
       "sqft_living      0\n",
       "sqft_lot         0\n",
       "floors           0\n",
       "waterfront       0\n",
       "view             0\n",
       "condition        0\n",
       "grade            0\n",
       "sqft_above       0\n",
       "sqft_basement    0\n",
       "yr_built         0\n",
       "yr_renovated     0\n",
       "zipcode          0\n",
       "lat              0\n",
       "long             0\n",
       "sqft_living15    0\n",
       "sqft_lot15       0\n",
       "City/Town        0\n",
       "dtype: int64"
      ]
     },
     "execution_count": 11,
     "metadata": {},
     "output_type": "execute_result"
    }
   ],
   "source": [
    "df.isnull().sum()"
   ]
  },
  {
   "cell_type": "markdown",
   "id": "e6b933ac-9aa9-451b-baa0-2efedcac5977",
   "metadata": {},
   "source": [
    "No missing values found"
   ]
  },
  {
   "cell_type": "markdown",
   "id": "35874641-acb4-4266-9c5e-4516c695bc8b",
   "metadata": {},
   "source": [
    "#### 2.3 Drop unnecessary columns"
   ]
  },
  {
   "cell_type": "code",
   "execution_count": 12,
   "id": "21751d7d-2d78-410d-94ca-238c6f35e88e",
   "metadata": {},
   "outputs": [],
   "source": [
    "df = df.drop(['Unnamed: 0', 'City/Town'], axis=1)"
   ]
  },
  {
   "cell_type": "code",
   "execution_count": 13,
   "id": "b849020b-3682-4e98-a96a-99ea57a147f3",
   "metadata": {},
   "outputs": [
    {
     "data": {
      "text/plain": [
       "Index(['id', 'date', 'price', 'bedrooms', 'bathrooms', 'sqft_living',\n",
       "       'sqft_lot', 'floors', 'waterfront', 'view', 'condition', 'grade',\n",
       "       'sqft_above', 'sqft_basement', 'yr_built', 'yr_renovated', 'zipcode',\n",
       "       'lat', 'long', 'sqft_living15', 'sqft_lot15'],\n",
       "      dtype='object')"
      ]
     },
     "execution_count": 13,
     "metadata": {},
     "output_type": "execute_result"
    }
   ],
   "source": [
    "df.columns"
   ]
  },
  {
   "cell_type": "markdown",
   "id": "a855dd6e-e5c4-4594-a395-97566cdff43b",
   "metadata": {},
   "source": [
    "#### 2.4 Check for duplicates"
   ]
  },
  {
   "cell_type": "code",
   "execution_count": 14,
   "id": "e8c1bef8-80b6-469c-b6a0-978219e475bc",
   "metadata": {},
   "outputs": [
    {
     "data": {
      "text/plain": [
       "(21612,)"
      ]
     },
     "execution_count": 14,
     "metadata": {},
     "output_type": "execute_result"
    }
   ],
   "source": [
    "dups = df.duplicated()\n",
    "dups.shape"
   ]
  },
  {
   "cell_type": "markdown",
   "id": "86ab254b-3a2f-4633-9691-fe202d0ccae0",
   "metadata": {},
   "source": [
    "No duplicates found"
   ]
  },
  {
   "cell_type": "markdown",
   "id": "1e613b94-7110-4540-ab9a-5f57dfa92e56",
   "metadata": {},
   "source": [
    "### 3. Hypothesis 1 \n",
    "#### \"Increasing the number of square feet (sqft_living) will lead to a higher house price\" "
   ]
  },
  {
   "cell_type": "markdown",
   "id": "d823bc0a-3068-4db0-8581-5511f791ef6e",
   "metadata": {},
   "source": [
    "#### 3.1 Extreme values checks"
   ]
  },
  {
   "cell_type": "markdown",
   "id": "734abae6-c7d0-49b6-9dc1-8db14dc4b2af",
   "metadata": {},
   "source": [
    "Histogram showing distribution of price variable"
   ]
  },
  {
   "cell_type": "code",
   "execution_count": 15,
   "id": "5db0de9b-c19a-4014-bbcf-ddb2868d85fe",
   "metadata": {},
   "outputs": [
    {
     "name": "stderr",
     "output_type": "stream",
     "text": [
      "C:\\Users\\boss4048\\AppData\\Local\\Temp\\ipykernel_38068\\1384554536.py:1: UserWarning: \n",
      "\n",
      "`distplot` is a deprecated function and will be removed in seaborn v0.14.0.\n",
      "\n",
      "Please adapt your code to use either `displot` (a figure-level function with\n",
      "similar flexibility) or `histplot` (an axes-level function for histograms).\n",
      "\n",
      "For a guide to updating your code to use the new functions, please see\n",
      "https://gist.github.com/mwaskom/de44147ed2974457ad6372750bbe5751\n",
      "\n",
      "  sns.distplot(df['price'], bins=25) # Shows extreme values\n"
     ]
    },
    {
     "data": {
      "text/plain": [
       "<Axes: xlabel='price', ylabel='Density'>"
      ]
     },
     "execution_count": 15,
     "metadata": {},
     "output_type": "execute_result"
    },
    {
     "data": {
      "image/png": "[encoded data removed]",
      "text/plain": [
       "<Figure size 640x480 with 1 Axes>"
      ]
     },
     "metadata": {},
     "output_type": "display_data"
    }
   ],
   "source": [
    "sns.distplot(df['price'], bins=25) # Shows extreme values"
   ]
  },
  {
   "cell_type": "markdown",
   "id": "42d12a91-b036-43cf-95ee-d8f7920708b0",
   "metadata": {},
   "source": [
    "Histogram showing distribution of sqft_living variable"
   ]
  },
  {
   "cell_type": "code",
   "execution_count": 16,
   "id": "3ab2e372-e385-454e-8012-f98ed52f2000",
   "metadata": {},
   "outputs": [
    {
     "name": "stderr",
     "output_type": "stream",
     "text": [
      "C:\\Users\\boss4048\\AppData\\Local\\Temp\\ipykernel_38068\\574163313.py:1: UserWarning: \n",
      "\n",
      "`distplot` is a deprecated function and will be removed in seaborn v0.14.0.\n",
      "\n",
      "Please adapt your code to use either `displot` (a figure-level function with\n",
      "similar flexibility) or `histplot` (an axes-level function for histograms).\n",
      "\n",
      "For a guide to updating your code to use the new functions, please see\n",
      "https://gist.github.com/mwaskom/de44147ed2974457ad6372750bbe5751\n",
      "\n",
      "  sns.distplot(df['sqft_living'], bins=25) # Shows extreme values\n"
     ]
    },
    {
     "data": {
      "text/plain": [
       "<Axes: xlabel='sqft_living', ylabel='Density'>"
      ]
     },
     "execution_count": 16,
     "metadata": {},
     "output_type": "execute_result"
    },
    {
     "data": {
      "image/png": "[encoded data removed]",
      "text/plain": [
       "<Figure size 640x480 with 1 Axes>"
      ]
     },
     "metadata": {},
     "output_type": "display_data"
    }
   ],
   "source": [
    "sns.distplot(df['sqft_living'], bins=25) # Shows extreme values"
   ]
  },
  {
   "cell_type": "markdown",
   "id": "257fc5a0-ade7-43de-8465-540c359bb102",
   "metadata": {},
   "source": [
    "##### Finding outliers\n",
    "Some of the outliers in the high values need to be removed."
   ]
  },
  {
   "cell_type": "markdown",
   "id": "8a60b7d6-9f84-4e37-af62-644ed7c89c0f",
   "metadata": {},
   "source": [
    "##### Price variable"
   ]
  },
  {
   "cell_type": "code",
   "execution_count": 17,
   "id": "a238de6c-e4fe-4cc4-a3be-fd7c0c791d76",
   "metadata": {},
   "outputs": [],
   "source": [
    "# Calculate Q1, Q3, and IQR\n",
    "Q1 = df['price'].quantile(0.25)\n",
    "Q3 = df['price'].quantile(0.75)\n",
    "IQR = Q3 - Q1\n",
    "\n",
    "# Define outlier thresholds\n",
    "lower_bound = Q1 - 1.5 * IQR\n",
    "upper_bound = Q3 + 1.5 * IQR"
   ]
  },
  {
   "cell_type": "code",
   "execution_count": 18,
   "id": "8cf3d376-2769-4e2f-b8b3-75cfae7e50b1",
   "metadata": {},
   "outputs": [
    {
     "data": {
      "text/plain": [
       "-162906.25"
      ]
     },
     "execution_count": 18,
     "metadata": {},
     "output_type": "execute_result"
    }
   ],
   "source": [
    "lower_bound"
   ]
  },
  {
   "cell_type": "code",
   "execution_count": 19,
   "id": "b9d962bb-92a1-410b-bf82-91189ae63632",
   "metadata": {},
   "outputs": [
    {
     "data": {
      "text/plain": [
       "1129743.75"
      ]
     },
     "execution_count": 19,
     "metadata": {},
     "output_type": "execute_result"
    }
   ],
   "source": [
    "upper_bound"
   ]
  },
  {
   "cell_type": "markdown",
   "id": "b68d62bb-aa04-4857-9b6a-477a9ca5fa82",
   "metadata": {},
   "source": [
    "We can see that the prices more than 1,129,743.75 are outliers."
   ]
  },
  {
   "cell_type": "markdown",
   "id": "ab92a751-6162-4355-8698-d909b3ac3c31",
   "metadata": {},
   "source": [
    "##### Sqft_living variable"
   ]
  },
  {
   "cell_type": "code",
   "execution_count": 20,
   "id": "4278a410-7fb3-4ff1-a4db-8143c30f1b97",
   "metadata": {},
   "outputs": [],
   "source": [
    "# Calculate Q1, Q3, and IQR\n",
    "Q1 = df['sqft_living'].quantile(0.25)\n",
    "Q3 = df['sqft_living'].quantile(0.75)\n",
    "IQR = Q3 - Q1\n",
    "\n",
    "# Define outlier thresholds\n",
    "lower_bound = Q1 - 1.5 * IQR\n",
    "upper_bound = Q3 + 1.5 * IQR"
   ]
  },
  {
   "cell_type": "code",
   "execution_count": 21,
   "id": "23ec98c7-b8b6-4a52-be28-0aabf5fbdd9d",
   "metadata": {},
   "outputs": [
    {
     "data": {
      "text/plain": [
       "-258.75"
      ]
     },
     "execution_count": 21,
     "metadata": {},
     "output_type": "execute_result"
    }
   ],
   "source": [
    "lower_bound"
   ]
  },
  {
   "cell_type": "code",
   "execution_count": 22,
   "id": "346a4b5d-9390-4afd-ac92-621fdb24e811",
   "metadata": {},
   "outputs": [
    {
     "data": {
      "text/plain": [
       "4235.25"
      ]
     },
     "execution_count": 22,
     "metadata": {},
     "output_type": "execute_result"
    }
   ],
   "source": [
    "upper_bound"
   ]
  },
  {
   "cell_type": "markdown",
   "id": "7910ae53-066d-44d3-b613-8d923210d7fb",
   "metadata": {},
   "source": [
    "We can see that the sqft_living more than 4,253.25 are outliers."
   ]
  },
  {
   "cell_type": "code",
   "execution_count": 23,
   "id": "44a6de73-c096-456c-8df8-1046d1b93829",
   "metadata": {},
   "outputs": [],
   "source": [
    "df_cleaned = df[(df['price'] < 1129743.75) & (df['sqft_living'] < 4235.25)]"
   ]
  },
  {
   "cell_type": "code",
   "execution_count": 24,
   "id": "2c9e8f64-8230-4147-9c2d-8e8029182eea",
   "metadata": {},
   "outputs": [
    {
     "data": {
      "text/plain": [
       "(20279, 21)"
      ]
     },
     "execution_count": 24,
     "metadata": {},
     "output_type": "execute_result"
    }
   ],
   "source": [
    "df_cleaned.shape"
   ]
  },
  {
   "cell_type": "markdown",
   "id": "64ab9ca2-6fb0-40ef-81ef-94ffb42c9049",
   "metadata": {},
   "source": [
    "#### 3.2 Data prep for regression analysis "
   ]
  },
  {
   "cell_type": "markdown",
   "id": "22e415ce-ea43-431a-adfe-4e02dec58eeb",
   "metadata": {},
   "source": [
    "#### Chosen variables are\n",
    "- Price (dependent variable) is plotted on y-axis.\n",
    "- Sqft_living (independent variable) is plotted on x-axis."
   ]
  },
  {
   "cell_type": "code",
   "execution_count": 25,
   "id": "01ace591-b4bf-4312-a681-9127ba2447d0",
   "metadata": {},
   "outputs": [
    {
     "data": {
      "image/png": "[encoded data removed]",
      "text/plain": [
       "<Figure size 640x480 with 1 Axes>"
      ]
     },
     "metadata": {},
     "output_type": "display_data"
    }
   ],
   "source": [
    "# Create a scatterplot using matplotlib for another look at how the chosen variables plot against each other.\n",
    "\n",
    "df_cleaned.plot(x = 'sqft_living', y='price',style='o')\n",
    "plt.title('Living Space (sq.ft) vs House Price')  \n",
    "plt.xlabel('Living Space (sq.ft)')  \n",
    "plt.ylabel('House Price ($)')  \n",
    "plt.show()"
   ]
  },
  {
   "cell_type": "markdown",
   "id": "befb40c2-6005-4270-b4d4-c269ec6126c1",
   "metadata": {},
   "source": [
    "#### 3.3 Regression analysis"
   ]
  },
  {
   "cell_type": "markdown",
   "id": "614d8def-ecb8-4508-a65b-1c657294c0dd",
   "metadata": {},
   "source": [
    "##### 3.3.1 Reshape the variables"
   ]
  },
  {
   "cell_type": "code",
   "execution_count": 26,
   "id": "7acdd3f6-4b79-4dcc-97a0-82702393e972",
   "metadata": {},
   "outputs": [],
   "source": [
    "# Reshape the variables into NumPy arrays and put them into separate objects.\n",
    "\n",
    "X1 = df_cleaned['sqft_living'].values.reshape(-1,1)\n",
    "y1 = df_cleaned['price'].values.reshape(-1,1)"
   ]
  },
  {
   "cell_type": "code",
   "execution_count": 27,
   "id": "39fd4120-903f-4ef0-a8e3-da8629967e8a",
   "metadata": {},
   "outputs": [
    {
     "data": {
      "text/plain": [
       "array([[1180],\n",
       "       [2570],\n",
       "       [ 770],\n",
       "       ...,\n",
       "       [1020],\n",
       "       [1600],\n",
       "       [1020]], dtype=int64)"
      ]
     },
     "execution_count": 27,
     "metadata": {},
     "output_type": "execute_result"
    }
   ],
   "source": [
    "X1"
   ]
  },
  {
   "cell_type": "code",
   "execution_count": 28,
   "id": "e536a59b-39e0-43a4-ad76-e4a0814c5853",
   "metadata": {},
   "outputs": [
    {
     "data": {
      "text/plain": [
       "array([[221900],\n",
       "       [538000],\n",
       "       [180000],\n",
       "       ...,\n",
       "       [402101],\n",
       "       [400000],\n",
       "       [325000]], dtype=int64)"
      ]
     },
     "execution_count": 28,
     "metadata": {},
     "output_type": "execute_result"
    }
   ],
   "source": [
    "y1"
   ]
  },
  {
   "cell_type": "markdown",
   "id": "d6db4a04-3106-4225-85a0-d4da62dfdaf6",
   "metadata": {},
   "source": [
    "##### 3.3.2 Split the data into a training set and a test set"
   ]
  },
  {
   "cell_type": "code",
   "execution_count": 29,
   "id": "a54cc86a-baf8-4c53-8d0b-65c2da76eb7d",
   "metadata": {},
   "outputs": [],
   "source": [
    "# Split data into a training set and a test set.\n",
    "# training set = 70%, test set = 30%\n",
    "X1_train, X1_test, y1_train, y1_test = train_test_split(X1, y1, test_size=0.3, random_state=0)"
   ]
  },
  {
   "cell_type": "markdown",
   "id": "905ee8db-d400-48e7-a28d-2cc1a17ed867",
   "metadata": {},
   "source": [
    "##### 3.3.3 Start regression analysis"
   ]
  },
  {
   "cell_type": "code",
   "execution_count": 30,
   "id": "4524f52a-569a-4ae8-aae8-d1654426eb5f",
   "metadata": {},
   "outputs": [],
   "source": [
    "# Create a regression object.\n",
    "regression = LinearRegression()  # This is the regression object, which will be fit onto the training set."
   ]
  },
  {
   "cell_type": "code",
   "execution_count": 31,
   "id": "571ceae1-9baf-4e04-b773-108371578090",
   "metadata": {},
   "outputs": [
    {
     "data": {
      "text/html": [
       "<style>#sk-container-id-1 {\n",
       "  /* Definition of color scheme common for light and dark mode */\n",
       "  --sklearn-color-text: black;\n",
       "  --sklearn-color-line: gray;\n",
       "  /* Definition of color scheme for unfitted estimators */\n",
       "  --sklearn-color-unfitted-level-0: #fff5e6;\n",
       "  --sklearn-color-unfitted-level-1: #f6e4d2;\n",
       "  --sklearn-color-unfitted-level-2: #ffe0b3;\n",
       "  --sklearn-color-unfitted-level-3: chocolate;\n",
       "  /* Definition of color scheme for fitted estimators */\n",
       "  --sklearn-color-fitted-level-0: #f0f8ff;\n",
       "  --sklearn-color-fitted-level-1: #d4ebff;\n",
       "  --sklearn-color-fitted-level-2: #b3dbfd;\n",
       "  --sklearn-color-fitted-level-3: cornflowerblue;\n",
       "\n",
       "  /* Specific color for light theme */\n",
       "  --sklearn-color-text-on-default-background: var(--sg-text-color, var(--theme-code-foreground, var(--jp-content-font-color1, black)));\n",
       "  --sklearn-color-background: var(--sg-background-color, var(--theme-background, var(--jp-layout-color0, white)));\n",
       "  --sklearn-color-border-box: var(--sg-text-color, var(--theme-code-foreground, var(--jp-content-font-color1, black)));\n",
       "  --sklearn-color-icon: #696969;\n",
       "\n",
       "  @media (prefers-color-scheme: dark) {\n",
       "    /* Redefinition of color scheme for dark theme */\n",
       "    --sklearn-color-text-on-default-background: var(--sg-text-color, var(--theme-code-foreground, var(--jp-content-font-color1, white)));\n",
       "    --sklearn-color-background: var(--sg-background-color, var(--theme-background, var(--jp-layout-color0, #111)));\n",
       "    --sklearn-color-border-box: var(--sg-text-color, var(--theme-code-foreground, var(--jp-content-font-color1, white)));\n",
       "    --sklearn-color-icon: #878787;\n",
       "  }\n",
       "}\n",
       "\n",
       "#sk-container-id-1 {\n",
       "  color: var(--sklearn-color-text);\n",
       "}\n",
       "\n",
       "#sk-container-id-1 pre {\n",
       "  padding: 0;\n",
       "}\n",
       "\n",
       "#sk-container-id-1 input.sk-hidden--visually {\n",
       "  border: 0;\n",
       "  clip: rect(1px 1px 1px 1px);\n",
       "  clip: rect(1px, 1px, 1px, 1px);\n",
       "  height: 1px;\n",
       "  margin: -1px;\n",
       "  overflow: hidden;\n",
       "  padding: 0;\n",
       "  position: absolute;\n",
       "  width: 1px;\n",
       "}\n",
       "\n",
       "#sk-container-id-1 div.sk-dashed-wrapped {\n",
       "  border: 1px dashed var(--sklearn-color-line);\n",
       "  margin: 0 0.4em 0.5em 0.4em;\n",
       "  box-sizing: border-box;\n",
       "  padding-bottom: 0.4em;\n",
       "  background-color: var(--sklearn-color-background);\n",
       "}\n",
       "\n",
       "#sk-container-id-1 div.sk-container {\n",
       "  /* jupyter's `normalize.less` sets `[hidden] { display: none; }`\n",
       "     but bootstrap.min.css set `[hidden] { display: none !important; }`\n",
       "     so we also need the `!important` here to be able to override the\n",
       "     default hidden behavior on the sphinx rendered scikit-learn.org.\n",
       "     See: https://github.com/scikit-learn/scikit-learn/issues/21755 */\n",
       "  display: inline-block !important;\n",
       "  position: relative;\n",
       "}\n",
       "\n",
       "#sk-container-id-1 div.sk-text-repr-fallback {\n",
       "  display: none;\n",
       "}\n",
       "\n",
       "div.sk-parallel-item,\n",
       "div.sk-serial,\n",
       "div.sk-item {\n",
       "  /* draw centered vertical line to link estimators */\n",
       "  background-image: linear-gradient(var(--sklearn-color-text-on-default-background), var(--sklearn-color-text-on-default-background));\n",
       "  background-size: 2px 100%;\n",
       "  background-repeat: no-repeat;\n",
       "  background-position: center center;\n",
       "}\n",
       "\n",
       "/* Parallel-specific style estimator block */\n",
       "\n",
       "#sk-container-id-1 div.sk-parallel-item::after {\n",
       "  content: \"\";\n",
       "  width: 100%;\n",
       "  border-bottom: 2px solid var(--sklearn-color-text-on-default-background);\n",
       "  flex-grow: 1;\n",
       "}\n",
       "\n",
       "#sk-container-id-1 div.sk-parallel {\n",
       "  display: flex;\n",
       "  align-items: stretch;\n",
       "  justify-content: center;\n",
       "  background-color: var(--sklearn-color-background);\n",
       "  position: relative;\n",
       "}\n",
       "\n",
       "#sk-container-id-1 div.sk-parallel-item {\n",
       "  display: flex;\n",
       "  flex-direction: column;\n",
       "}\n",
       "\n",
       "#sk-container-id-1 div.sk-parallel-item:first-child::after {\n",
       "  align-self: flex-end;\n",
       "  width: 50%;\n",
       "}\n",
       "\n",
       "#sk-container-id-1 div.sk-parallel-item:last-child::after {\n",
       "  align-self: flex-start;\n",
       "  width: 50%;\n",
       "}\n",
       "\n",
       "#sk-container-id-1 div.sk-parallel-item:only-child::after {\n",
       "  width: 0;\n",
       "}\n",
       "\n",
       "/* Serial-specific style estimator block */\n",
       "\n",
       "#sk-container-id-1 div.sk-serial {\n",
       "  display: flex;\n",
       "  flex-direction: column;\n",
       "  align-items: center;\n",
       "  background-color: var(--sklearn-color-background);\n",
       "  padding-right: 1em;\n",
       "  padding-left: 1em;\n",
       "}\n",
       "\n",
       "\n",
       "/* Toggleable style: style used for estimator/Pipeline/ColumnTransformer box that is\n",
       "clickable and can be expanded/collapsed.\n",
       "- Pipeline and ColumnTransformer use this feature and define the default style\n",
       "- Estimators will overwrite some part of the style using the `sk-estimator` class\n",
       "*/\n",
       "\n",
       "/* Pipeline and ColumnTransformer style (default) */\n",
       "\n",
       "#sk-container-id-1 div.sk-toggleable {\n",
       "  /* Default theme specific background. It is overwritten whether we have a\n",
       "  specific estimator or a Pipeline/ColumnTransformer */\n",
       "  background-color: var(--sklearn-color-background);\n",
       "}\n",
       "\n",
       "/* Toggleable label */\n",
       "#sk-container-id-1 label.sk-toggleable__label {\n",
       "  cursor: pointer;\n",
       "  display: block;\n",
       "  width: 100%;\n",
       "  margin-bottom: 0;\n",
       "  padding: 0.5em;\n",
       "  box-sizing: border-box;\n",
       "  text-align: center;\n",
       "}\n",
       "\n",
       "#sk-container-id-1 label.sk-toggleable__label-arrow:before {\n",
       "  /* Arrow on the left of the label */\n",
       "  content: \"▸\";\n",
       "  float: left;\n",
       "  margin-right: 0.25em;\n",
       "  color: var(--sklearn-color-icon);\n",
       "}\n",
       "\n",
       "#sk-container-id-1 label.sk-toggleable__label-arrow:hover:before {\n",
       "  color: var(--sklearn-color-text);\n",
       "}\n",
       "\n",
       "/* Toggleable content - dropdown */\n",
       "\n",
       "#sk-container-id-1 div.sk-toggleable__content {\n",
       "  max-height: 0;\n",
       "  max-width: 0;\n",
       "  overflow: hidden;\n",
       "  text-align: left;\n",
       "  /* unfitted */\n",
       "  background-color: var(--sklearn-color-unfitted-level-0);\n",
       "}\n",
       "\n",
       "#sk-container-id-1 div.sk-toggleable__content.fitted {\n",
       "  /* fitted */\n",
       "  background-color: var(--sklearn-color-fitted-level-0);\n",
       "}\n",
       "\n",
       "#sk-container-id-1 div.sk-toggleable__content pre {\n",
       "  margin: 0.2em;\n",
       "  border-radius: 0.25em;\n",
       "  color: var(--sklearn-color-text);\n",
       "  /* unfitted */\n",
       "  background-color: var(--sklearn-color-unfitted-level-0);\n",
       "}\n",
       "\n",
       "#sk-container-id-1 div.sk-toggleable__content.fitted pre {\n",
       "  /* unfitted */\n",
       "  background-color: var(--sklearn-color-fitted-level-0);\n",
       "}\n",
       "\n",
       "#sk-container-id-1 input.sk-toggleable__control:checked~div.sk-toggleable__content {\n",
       "  /* Expand drop-down */\n",
       "  max-height: 200px;\n",
       "  max-width: 100%;\n",
       "  overflow: auto;\n",
       "}\n",
       "\n",
       "#sk-container-id-1 input.sk-toggleable__control:checked~label.sk-toggleable__label-arrow:before {\n",
       "  content: \"▾\";\n",
       "}\n",
       "\n",
       "/* Pipeline/ColumnTransformer-specific style */\n",
       "\n",
       "#sk-container-id-1 div.sk-label input.sk-toggleable__control:checked~label.sk-toggleable__label {\n",
       "  color: var(--sklearn-color-text);\n",
       "  background-color: var(--sklearn-color-unfitted-level-2);\n",
       "}\n",
       "\n",
       "#sk-container-id-1 div.sk-label.fitted input.sk-toggleable__control:checked~label.sk-toggleable__label {\n",
       "  background-color: var(--sklearn-color-fitted-level-2);\n",
       "}\n",
       "\n",
       "/* Estimator-specific style */\n",
       "\n",
       "/* Colorize estimator box */\n",
       "#sk-container-id-1 div.sk-estimator input.sk-toggleable__control:checked~label.sk-toggleable__label {\n",
       "  /* unfitted */\n",
       "  background-color: var(--sklearn-color-unfitted-level-2);\n",
       "}\n",
       "\n",
       "#sk-container-id-1 div.sk-estimator.fitted input.sk-toggleable__control:checked~label.sk-toggleable__label {\n",
       "  /* fitted */\n",
       "  background-color: var(--sklearn-color-fitted-level-2);\n",
       "}\n",
       "\n",
       "#sk-container-id-1 div.sk-label label.sk-toggleable__label,\n",
       "#sk-container-id-1 div.sk-label label {\n",
       "  /* The background is the default theme color */\n",
       "  color: var(--sklearn-color-text-on-default-background);\n",
       "}\n",
       "\n",
       "/* On hover, darken the color of the background */\n",
       "#sk-container-id-1 div.sk-label:hover label.sk-toggleable__label {\n",
       "  color: var(--sklearn-color-text);\n",
       "  background-color: var(--sklearn-color-unfitted-level-2);\n",
       "}\n",
       "\n",
       "/* Label box, darken color on hover, fitted */\n",
       "#sk-container-id-1 div.sk-label.fitted:hover label.sk-toggleable__label.fitted {\n",
       "  color: var(--sklearn-color-text);\n",
       "  background-color: var(--sklearn-color-fitted-level-2);\n",
       "}\n",
       "\n",
       "/* Estimator label */\n",
       "\n",
       "#sk-container-id-1 div.sk-label label {\n",
       "  font-family: monospace;\n",
       "  font-weight: bold;\n",
       "  display: inline-block;\n",
       "  line-height: 1.2em;\n",
       "}\n",
       "\n",
       "#sk-container-id-1 div.sk-label-container {\n",
       "  text-align: center;\n",
       "}\n",
       "\n",
       "/* Estimator-specific */\n",
       "#sk-container-id-1 div.sk-estimator {\n",
       "  font-family: monospace;\n",
       "  border: 1px dotted var(--sklearn-color-border-box);\n",
       "  border-radius: 0.25em;\n",
       "  box-sizing: border-box;\n",
       "  margin-bottom: 0.5em;\n",
       "  /* unfitted */\n",
       "  background-color: var(--sklearn-color-unfitted-level-0);\n",
       "}\n",
       "\n",
       "#sk-container-id-1 div.sk-estimator.fitted {\n",
       "  /* fitted */\n",
       "  background-color: var(--sklearn-color-fitted-level-0);\n",
       "}\n",
       "\n",
       "/* on hover */\n",
       "#sk-container-id-1 div.sk-estimator:hover {\n",
       "  /* unfitted */\n",
       "  background-color: var(--sklearn-color-unfitted-level-2);\n",
       "}\n",
       "\n",
       "#sk-container-id-1 div.sk-estimator.fitted:hover {\n",
       "  /* fitted */\n",
       "  background-color: var(--sklearn-color-fitted-level-2);\n",
       "}\n",
       "\n",
       "/* Specification for estimator info (e.g. \"i\" and \"?\") */\n",
       "\n",
       "/* Common style for \"i\" and \"?\" */\n",
       "\n",
       ".sk-estimator-doc-link,\n",
       "a:link.sk-estimator-doc-link,\n",
       "a:visited.sk-estimator-doc-link {\n",
       "  float: right;\n",
       "  font-size: smaller;\n",
       "  line-height: 1em;\n",
       "  font-family: monospace;\n",
       "  background-color: var(--sklearn-color-background);\n",
       "  border-radius: 1em;\n",
       "  height: 1em;\n",
       "  width: 1em;\n",
       "  text-decoration: none !important;\n",
       "  margin-left: 1ex;\n",
       "  /* unfitted */\n",
       "  border: var(--sklearn-color-unfitted-level-1) 1pt solid;\n",
       "  color: var(--sklearn-color-unfitted-level-1);\n",
       "}\n",
       "\n",
       ".sk-estimator-doc-link.fitted,\n",
       "a:link.sk-estimator-doc-link.fitted,\n",
       "a:visited.sk-estimator-doc-link.fitted {\n",
       "  /* fitted */\n",
       "  border: var(--sklearn-color-fitted-level-1) 1pt solid;\n",
       "  color: var(--sklearn-color-fitted-level-1);\n",
       "}\n",
       "\n",
       "/* On hover */\n",
       "div.sk-estimator:hover .sk-estimator-doc-link:hover,\n",
       ".sk-estimator-doc-link:hover,\n",
       "div.sk-label-container:hover .sk-estimator-doc-link:hover,\n",
       ".sk-estimator-doc-link:hover {\n",
       "  /* unfitted */\n",
       "  background-color: var(--sklearn-color-unfitted-level-3);\n",
       "  color: var(--sklearn-color-background);\n",
       "  text-decoration: none;\n",
       "}\n",
       "\n",
       "div.sk-estimator.fitted:hover .sk-estimator-doc-link.fitted:hover,\n",
       ".sk-estimator-doc-link.fitted:hover,\n",
       "div.sk-label-container:hover .sk-estimator-doc-link.fitted:hover,\n",
       ".sk-estimator-doc-link.fitted:hover {\n",
       "  /* fitted */\n",
       "  background-color: var(--sklearn-color-fitted-level-3);\n",
       "  color: var(--sklearn-color-background);\n",
       "  text-decoration: none;\n",
       "}\n",
       "\n",
       "/* Span, style for the box shown on hovering the info icon */\n",
       ".sk-estimator-doc-link span {\n",
       "  display: none;\n",
       "  z-index: 9999;\n",
       "  position: relative;\n",
       "  font-weight: normal;\n",
       "  right: .2ex;\n",
       "  padding: .5ex;\n",
       "  margin: .5ex;\n",
       "  width: min-content;\n",
       "  min-width: 20ex;\n",
       "  max-width: 50ex;\n",
       "  color: var(--sklearn-color-text);\n",
       "  box-shadow: 2pt 2pt 4pt #999;\n",
       "  /* unfitted */\n",
       "  background: var(--sklearn-color-unfitted-level-0);\n",
       "  border: .5pt solid var(--sklearn-color-unfitted-level-3);\n",
       "}\n",
       "\n",
       ".sk-estimator-doc-link.fitted span {\n",
       "  /* fitted */\n",
       "  background: var(--sklearn-color-fitted-level-0);\n",
       "  border: var(--sklearn-color-fitted-level-3);\n",
       "}\n",
       "\n",
       ".sk-estimator-doc-link:hover span {\n",
       "  display: block;\n",
       "}\n",
       "\n",
       "/* \"?\"-specific style due to the `<a>` HTML tag */\n",
       "\n",
       "#sk-container-id-1 a.estimator_doc_link {\n",
       "  float: right;\n",
       "  font-size: 1rem;\n",
       "  line-height: 1em;\n",
       "  font-family: monospace;\n",
       "  background-color: var(--sklearn-color-background);\n",
       "  border-radius: 1rem;\n",
       "  height: 1rem;\n",
       "  width: 1rem;\n",
       "  text-decoration: none;\n",
       "  /* unfitted */\n",
       "  color: var(--sklearn-color-unfitted-level-1);\n",
       "  border: var(--sklearn-color-unfitted-level-1) 1pt solid;\n",
       "}\n",
       "\n",
       "#sk-container-id-1 a.estimator_doc_link.fitted {\n",
       "  /* fitted */\n",
       "  border: var(--sklearn-color-fitted-level-1) 1pt solid;\n",
       "  color: var(--sklearn-color-fitted-level-1);\n",
       "}\n",
       "\n",
       "/* On hover */\n",
       "#sk-container-id-1 a.estimator_doc_link:hover {\n",
       "  /* unfitted */\n",
       "  background-color: var(--sklearn-color-unfitted-level-3);\n",
       "  color: var(--sklearn-color-background);\n",
       "  text-decoration: none;\n",
       "}\n",
       "\n",
       "#sk-container-id-1 a.estimator_doc_link.fitted:hover {\n",
       "  /* fitted */\n",
       "  background-color: var(--sklearn-color-fitted-level-3);\n",
       "}\n",
       "</style><div id=\"sk-container-id-1\" class=\"sk-top-container\"><div class=\"sk-text-repr-fallback\"><pre>LinearRegression()</pre><b>In a Jupyter environment, please rerun this cell to show the HTML representation or trust the notebook. <br />On GitHub, the HTML representation is unable to render, please try loading this page with nbviewer.org.</b></div><div class=\"sk-container\" hidden><div class=\"sk-item\"><div class=\"sk-estimator fitted sk-toggleable\"><input class=\"sk-toggleable__control sk-hidden--visually\" id=\"sk-estimator-id-1\" type=\"checkbox\" checked><label for=\"sk-estimator-id-1\" class=\"sk-toggleable__label fitted sk-toggleable__label-arrow fitted\">&nbsp;&nbsp;LinearRegression<a class=\"sk-estimator-doc-link fitted\" rel=\"noreferrer\" target=\"_blank\" href=\"https://scikit-learn.org/1.4/modules/generated/sklearn.linear_model.LinearRegression.html\">?<span>Documentation for LinearRegression</span></a><span class=\"sk-estimator-doc-link fitted\">i<span>Fitted</span></span></label><div class=\"sk-toggleable__content fitted\"><pre>LinearRegression()</pre></div> </div></div></div></div>"
      ],
      "text/plain": [
       "LinearRegression()"
      ]
     },
     "execution_count": 31,
     "metadata": {},
     "output_type": "execute_result"
    }
   ],
   "source": [
    "# Fit the regression object onto the training set.\n",
    "regression.fit(X1_train, y1_train)"
   ]
  },
  {
   "cell_type": "code",
   "execution_count": 32,
   "id": "e777d34f-2fd8-44e8-8497-81fac85c0565",
   "metadata": {},
   "outputs": [],
   "source": [
    "# Predict the values of y using X.\n",
    "y1_predicted = regression.predict(X1_test)"
   ]
  },
  {
   "cell_type": "markdown",
   "id": "c01ce49d-86cc-4d39-9cdb-d562480e0fe8",
   "metadata": {},
   "source": [
    "##### Regression line on the test set"
   ]
  },
  {
   "cell_type": "code",
   "execution_count": 33,
   "id": "b09b2f33-d1da-4b52-aa2b-6c4ebc2255fd",
   "metadata": {},
   "outputs": [
    {
     "data": {
      "image/png": "[encoded data removed]",
      "text/plain": [
       "<Figure size 640x480 with 1 Axes>"
      ]
     },
     "metadata": {},
     "output_type": "display_data"
    }
   ],
   "source": [
    "# Create a plot that shows the regression line from the model on the test set.\n",
    "\n",
    "plot_test = plt\n",
    "plot_test.scatter(X1_test, y1_test, color='gray', s = 15)\n",
    "plot_test.plot(X1_test, y1_predicted, color='red', linewidth =3)\n",
    "plot_test.title('Living Space in sq.ft vs House Price (Test set)')\n",
    "plot_test.xlabel('Living Space (sq.ft)')\n",
    "plot_test.ylabel('House Price ($)')\n",
    "plot_test.show()"
   ]
  },
  {
   "cell_type": "markdown",
   "id": "e90ab96b-8171-45a5-ad66-daee514eaedf",
   "metadata": {},
   "source": [
    "The red regression line from the test set clearly follows the hypothesis:\n",
    "#### \"Increasing the number of square feet (sqft_living) will lead to a higher house price.\"\n",
    "\n",
    "It is evident that most house prices increase as the living space increases. However, there are some data points on the chart showing that even when the living space increases, the home price does not follow the trend.\n",
    "\n",
    "To evaluate the accuracy of the model, it is important to assess its performance using more than just visual inspection of the chart. In this case, MSE (Mean Squared Error) and R² score values are useful metrics to employ."
   ]
  },
  {
   "cell_type": "markdown",
   "id": "ed1e54df-f5a2-4cb2-877c-415321918564",
   "metadata": {},
   "source": [
    "##### 3.3.4 Check the model performance statistics (MSE and R2 score)"
   ]
  },
  {
   "cell_type": "code",
   "execution_count": 34,
   "id": "29f11cb8-6437-429a-9323-4c1818b8e3ec",
   "metadata": {},
   "outputs": [],
   "source": [
    "# Create objects that contain the model summary statistics.\n",
    "\n",
    "# This is the mean squared error\n",
    "rmse = mean_squared_error(y1_test, y1_predicted) \n",
    "\n",
    "# This is the R2 score. \n",
    "r2 = r2_score(y1_test, y1_predicted) # This is the R2 score. "
   ]
  },
  {
   "cell_type": "code",
   "execution_count": 35,
   "id": "e3bb35db-8ca3-49bd-a452-594586d46faa",
   "metadata": {},
   "outputs": [
    {
     "name": "stdout",
     "output_type": "stream",
     "text": [
      "Slope: [[170.49090601]]\n",
      "Mean squared error:  26279471646.580242\n",
      "R2 score:  0.3837514452734949\n"
     ]
    }
   ],
   "source": [
    "print('Slope:' ,regression.coef_)\n",
    "print('Mean squared error: ', rmse)\n",
    "print('R2 score: ', r2)"
   ]
  },
  {
   "cell_type": "markdown",
   "id": "515885dd-c579-4e2f-a0ef-22ed48b48624",
   "metadata": {},
   "source": [
    "##### From the statistical metrics we calculated:\n",
    "\n",
    "1. The positive slope confirms our previous analysis that as living space increases, the house price tends to go higher.\n",
    "2. An R2 score of 0.38 indicates a weak to moderate relationship, as we can observe many data points scattered around the regression line on the chart."
   ]
  },
  {
   "cell_type": "markdown",
   "id": "bfb1816a-cb24-4371-abf8-1cb6ff4c0ab5",
   "metadata": {},
   "source": [
    "##### 3.3.5 Compare the predicted y values with the actual y values"
   ]
  },
  {
   "cell_type": "code",
   "execution_count": 36,
   "id": "95c0ad64-c15e-40ea-8d87-aa2578976c3a",
   "metadata": {},
   "outputs": [
    {
     "data": {
      "text/plain": [
       "array([[374925.65181505],\n",
       "       [601678.55681105],\n",
       "       [362991.28839421],\n",
       "       ...,\n",
       "       [690333.8279373 ],\n",
       "       [390269.83335614],\n",
       "       [649416.01049442]])"
      ]
     },
     "execution_count": 36,
     "metadata": {},
     "output_type": "execute_result"
    }
   ],
   "source": [
    "y1_predicted"
   ]
  },
  {
   "cell_type": "code",
   "execution_count": 37,
   "id": "5e5fd8a4-a4cd-4ef2-8dfd-327dd48ccc48",
   "metadata": {},
   "outputs": [],
   "source": [
    "# Create a dataframe comparing the actual and predicted values of y.\n",
    "data = pd.DataFrame({'Actual': y1_test.flatten(), 'Predicted': y1_predicted.flatten()})\n",
    "\n",
    "# Prevent large numbers from displaying in scientific format\n",
    "pd.options.display.float_format = '{:,.0f}'.format"
   ]
  },
  {
   "cell_type": "code",
   "execution_count": 38,
   "id": "56f57056-897f-4efd-b532-d676bb47522e",
   "metadata": {},
   "outputs": [
    {
     "data": {
      "text/html": [
       "<div>\n",
       "<style scoped>\n",
       "    .dataframe tbody tr th:only-of-type {\n",
       "        vertical-align: middle;\n",
       "    }\n",
       "\n",
       "    .dataframe tbody tr th {\n",
       "        vertical-align: top;\n",
       "    }\n",
       "\n",
       "    .dataframe thead th {\n",
       "        text-align: right;\n",
       "    }\n",
       "</style>\n",
       "<table border=\"1\" class=\"dataframe\">\n",
       "  <thead>\n",
       "    <tr style=\"text-align: right;\">\n",
       "      <th></th>\n",
       "      <th>Actual</th>\n",
       "      <th>Predicted</th>\n",
       "    </tr>\n",
       "  </thead>\n",
       "  <tbody>\n",
       "    <tr>\n",
       "      <th>0</th>\n",
       "      <td>479000</td>\n",
       "      <td>374,926</td>\n",
       "    </tr>\n",
       "    <tr>\n",
       "      <th>1</th>\n",
       "      <td>565000</td>\n",
       "      <td>601,679</td>\n",
       "    </tr>\n",
       "    <tr>\n",
       "      <th>2</th>\n",
       "      <td>337500</td>\n",
       "      <td>362,991</td>\n",
       "    </tr>\n",
       "    <tr>\n",
       "      <th>3</th>\n",
       "      <td>210000</td>\n",
       "      <td>410,729</td>\n",
       "    </tr>\n",
       "    <tr>\n",
       "      <th>4</th>\n",
       "      <td>879000</td>\n",
       "      <td>862,530</td>\n",
       "    </tr>\n",
       "    <tr>\n",
       "      <th>...</th>\n",
       "      <td>...</td>\n",
       "      <td>...</td>\n",
       "    </tr>\n",
       "    <tr>\n",
       "      <th>6079</th>\n",
       "      <td>521000</td>\n",
       "      <td>455,056</td>\n",
       "    </tr>\n",
       "    <tr>\n",
       "      <th>6080</th>\n",
       "      <td>170000</td>\n",
       "      <td>371,516</td>\n",
       "    </tr>\n",
       "    <tr>\n",
       "      <th>6081</th>\n",
       "      <td>748000</td>\n",
       "      <td>690,334</td>\n",
       "    </tr>\n",
       "    <tr>\n",
       "      <th>6082</th>\n",
       "      <td>290000</td>\n",
       "      <td>390,270</td>\n",
       "    </tr>\n",
       "    <tr>\n",
       "      <th>6083</th>\n",
       "      <td>622500</td>\n",
       "      <td>649,416</td>\n",
       "    </tr>\n",
       "  </tbody>\n",
       "</table>\n",
       "<p>6084 rows × 2 columns</p>\n",
       "</div>"
      ],
      "text/plain": [
       "      Actual  Predicted\n",
       "0     479000    374,926\n",
       "1     565000    601,679\n",
       "2     337500    362,991\n",
       "3     210000    410,729\n",
       "4     879000    862,530\n",
       "...      ...        ...\n",
       "6079  521000    455,056\n",
       "6080  170000    371,516\n",
       "6081  748000    690,334\n",
       "6082  290000    390,270\n",
       "6083  622500    649,416\n",
       "\n",
       "[6084 rows x 2 columns]"
      ]
     },
     "execution_count": 38,
     "metadata": {},
     "output_type": "execute_result"
    }
   ],
   "source": [
    "data"
   ]
  },
  {
   "cell_type": "markdown",
   "id": "e8b19e8c-9d89-4431-9227-d8b76be19515",
   "metadata": {},
   "source": [
    "##### 3.3.6 Insights to the hypothesis 1 (price vs sqft_living)"
   ]
  },
  {
   "cell_type": "markdown",
   "id": "0813b3bf-e434-4976-b45a-c61516ddbdf0",
   "metadata": {},
   "source": [
    "The positive slope of the red regression line clearly indicates that the relationship between house price and living space moves in the same direction, meaning that as the living space increases, the house price increases.\n",
    "\n",
    "However, after splitting the data into training and test sets, we can see some noticeable differences between the actual and predicted y values. To determine if I can trust the model we just created, I want to perform some statistical calculations to see how much the predicted y values deviate from the actual values. If the results fall within an acceptable percentage, I would be more confident in trusting the model.\n",
    "\n",
    "Below are the steps I plan to take to calculate the statistical values."
   ]
  },
  {
   "cell_type": "code",
   "execution_count": 39,
   "id": "a2a5fc5a-0c52-461c-a251-6980390ddf12",
   "metadata": {},
   "outputs": [],
   "source": [
    "# Calculate the difference values between actual and predicted values and make it in absolute format\n",
    "data['different value'] = abs(data['Actual'] - data['Predicted'])"
   ]
  },
  {
   "cell_type": "code",
   "execution_count": 40,
   "id": "7a366697-735c-4228-8f6b-f431665a735a",
   "metadata": {},
   "outputs": [
    {
     "data": {
      "text/html": [
       "<div>\n",
       "<style scoped>\n",
       "    .dataframe tbody tr th:only-of-type {\n",
       "        vertical-align: middle;\n",
       "    }\n",
       "\n",
       "    .dataframe tbody tr th {\n",
       "        vertical-align: top;\n",
       "    }\n",
       "\n",
       "    .dataframe thead th {\n",
       "        text-align: right;\n",
       "    }\n",
       "</style>\n",
       "<table border=\"1\" class=\"dataframe\">\n",
       "  <thead>\n",
       "    <tr style=\"text-align: right;\">\n",
       "      <th></th>\n",
       "      <th>Actual</th>\n",
       "      <th>Predicted</th>\n",
       "      <th>different value</th>\n",
       "    </tr>\n",
       "  </thead>\n",
       "  <tbody>\n",
       "    <tr>\n",
       "      <th>0</th>\n",
       "      <td>479000</td>\n",
       "      <td>374,926</td>\n",
       "      <td>104,074</td>\n",
       "    </tr>\n",
       "    <tr>\n",
       "      <th>1</th>\n",
       "      <td>565000</td>\n",
       "      <td>601,679</td>\n",
       "      <td>36,679</td>\n",
       "    </tr>\n",
       "    <tr>\n",
       "      <th>2</th>\n",
       "      <td>337500</td>\n",
       "      <td>362,991</td>\n",
       "      <td>25,491</td>\n",
       "    </tr>\n",
       "    <tr>\n",
       "      <th>3</th>\n",
       "      <td>210000</td>\n",
       "      <td>410,729</td>\n",
       "      <td>200,729</td>\n",
       "    </tr>\n",
       "    <tr>\n",
       "      <th>4</th>\n",
       "      <td>879000</td>\n",
       "      <td>862,530</td>\n",
       "      <td>16,470</td>\n",
       "    </tr>\n",
       "  </tbody>\n",
       "</table>\n",
       "</div>"
      ],
      "text/plain": [
       "   Actual  Predicted  different value\n",
       "0  479000    374,926          104,074\n",
       "1  565000    601,679           36,679\n",
       "2  337500    362,991           25,491\n",
       "3  210000    410,729          200,729\n",
       "4  879000    862,530           16,470"
      ]
     },
     "execution_count": 40,
     "metadata": {},
     "output_type": "execute_result"
    }
   ],
   "source": [
    "data.head()"
   ]
  },
  {
   "cell_type": "code",
   "execution_count": 41,
   "id": "2ff8f6c8-e335-41b4-9761-8d055e4e9440",
   "metadata": {},
   "outputs": [
    {
     "data": {
      "text/plain": [
       "130291.09381057779"
      ]
     },
     "execution_count": 41,
     "metadata": {},
     "output_type": "execute_result"
    }
   ],
   "source": [
    "# Calculate the average value from the entire data of the different value column\n",
    "data['different value'].mean()"
   ]
  },
  {
   "cell_type": "code",
   "execution_count": 42,
   "id": "560ea60f-c58f-4e77-8b2d-58d77c8b2045",
   "metadata": {},
   "outputs": [
    {
     "data": {
      "text/plain": [
       "473919.58711374097"
      ]
     },
     "execution_count": 42,
     "metadata": {},
     "output_type": "execute_result"
    }
   ],
   "source": [
    "# Calculate the average value from the entire data of the Actual column\n",
    "data['Actual'].mean()"
   ]
  },
  {
   "cell_type": "code",
   "execution_count": 43,
   "id": "12d775ff-7b7f-4a10-b265-4f6bdc60ed3f",
   "metadata": {},
   "outputs": [
    {
     "data": {
      "text/plain": [
       "0.27492236521405444"
      ]
     },
     "execution_count": 43,
     "metadata": {},
     "output_type": "execute_result"
    }
   ],
   "source": [
    "data['different value'].mean()/data['Actual'].mean()"
   ]
  },
  {
   "cell_type": "markdown",
   "id": "044c946f-1aa7-49d7-b8e9-723f28fa41d2",
   "metadata": {},
   "source": [
    "We can see that there is a significant gap of approximately 27.5% (average value). This result deviates considerably from the actual values. Based on this number, I would not feel confident trusting this model. If I could reduce the error gap to at 10% and less, I would feel more confident in trusting the model. Therefore, our next step would be to further develop the model to decrease the error, ensuring users feel confident using it for predictions."
   ]
  },
  {
   "cell_type": "markdown",
   "id": "fc5da4ad-9bb7-4b7e-a8ac-1077dfff1367",
   "metadata": {},
   "source": [
    "### 4. Hypothesis 2\n",
    "#### \"Houses with a newer year built (after 1980) are more likely to have higher house prices\""
   ]
  },
  {
   "cell_type": "markdown",
   "id": "8bc25f13-ef6f-4e52-a246-93e11563ff3f",
   "metadata": {},
   "source": [
    "#### 4.1 Extreme values checks"
   ]
  },
  {
   "cell_type": "markdown",
   "id": "1d7ac2c3-42a9-410a-a2bb-cd12f8268b82",
   "metadata": {},
   "source": [
    "Histogram showing distribution of yr_built variable"
   ]
  },
  {
   "cell_type": "code",
   "execution_count": 44,
   "id": "e5bdabfb-caec-4b45-b858-0de3eb2789e3",
   "metadata": {},
   "outputs": [
    {
     "name": "stderr",
     "output_type": "stream",
     "text": [
      "C:\\Users\\boss4048\\AppData\\Local\\Temp\\ipykernel_38068\\4009164569.py:1: UserWarning: \n",
      "\n",
      "`distplot` is a deprecated function and will be removed in seaborn v0.14.0.\n",
      "\n",
      "Please adapt your code to use either `displot` (a figure-level function with\n",
      "similar flexibility) or `histplot` (an axes-level function for histograms).\n",
      "\n",
      "For a guide to updating your code to use the new functions, please see\n",
      "https://gist.github.com/mwaskom/de44147ed2974457ad6372750bbe5751\n",
      "\n",
      "  sns.distplot(df['yr_built'], bins=25) # Shows extreme values\n"
     ]
    },
    {
     "data": {
      "text/plain": [
       "<Axes: xlabel='yr_built', ylabel='Density'>"
      ]
     },
     "execution_count": 44,
     "metadata": {},
     "output_type": "execute_result"
    },
    {
     "data": {
      "image/png": "[encoded data removed]",
      "text/plain": [
       "<Figure size 640x480 with 1 Axes>"
      ]
     },
     "metadata": {},
     "output_type": "display_data"
    }
   ],
   "source": [
    "sns.distplot(df['yr_built'], bins=25) # Shows extreme values"
   ]
  },
  {
   "cell_type": "markdown",
   "id": "3598745a-1600-42dc-8460-6390927bd95c",
   "metadata": {},
   "source": [
    "##### Finding outliers\n",
    "Some of the outliers in the high values need to be removed."
   ]
  },
  {
   "cell_type": "markdown",
   "id": "5bf91db4-14e7-41f5-9528-811fbb559eb6",
   "metadata": {},
   "source": [
    "##### Year built variable"
   ]
  },
  {
   "cell_type": "code",
   "execution_count": 45,
   "id": "49ed4606-8f29-4688-9af0-7fc2d64c8e5a",
   "metadata": {},
   "outputs": [],
   "source": [
    "# Calculate Q1, Q3, and IQR\n",
    "Q1 = df['yr_built'].quantile(0.25)\n",
    "Q3 = df['yr_built'].quantile(0.75)\n",
    "IQR = Q3 - Q1\n",
    "\n",
    "# Define outlier thresholds\n",
    "lower_bound = Q1 - 1.5 * IQR\n",
    "upper_bound = Q3 + 1.5 * IQR"
   ]
  },
  {
   "cell_type": "code",
   "execution_count": 46,
   "id": "b45a2685-54b7-4bdb-b40a-f7636fb5cf2e",
   "metadata": {},
   "outputs": [
    {
     "data": {
      "text/plain": [
       "1882.0"
      ]
     },
     "execution_count": 46,
     "metadata": {},
     "output_type": "execute_result"
    }
   ],
   "source": [
    "lower_bound"
   ]
  },
  {
   "cell_type": "code",
   "execution_count": 47,
   "id": "a881bec3-3a4b-4b8d-a10b-ab2540a15977",
   "metadata": {},
   "outputs": [
    {
     "data": {
      "text/plain": [
       "2066.0"
      ]
     },
     "execution_count": 47,
     "metadata": {},
     "output_type": "execute_result"
    }
   ],
   "source": [
    "upper_bound"
   ]
  },
  {
   "cell_type": "markdown",
   "id": "6b1747a1-12ab-4990-9d5f-63279740f628",
   "metadata": {},
   "source": [
    "There are no outliers on this variable, so we can use the same dataframe (df_cleaned) from the previous analysis."
   ]
  },
  {
   "cell_type": "markdown",
   "id": "e9920909-d737-4981-8e26-53a0023ab2d5",
   "metadata": {},
   "source": [
    "#### 4.2 Data prep for regression analysis "
   ]
  },
  {
   "cell_type": "markdown",
   "id": "d5858377-98df-4f25-b9aa-40fd57764f5a",
   "metadata": {},
   "source": [
    "#### Chosen variables are\n",
    "- Price (dependent variable) is plotted on y-axis.\n",
    "- Yr_built (independent variable) is plotted on x-axis."
   ]
  },
  {
   "cell_type": "code",
   "execution_count": 48,
   "id": "25be8ef5-2fea-4cb9-88b2-f283170d5d02",
   "metadata": {},
   "outputs": [
    {
     "data": {
      "image/png": "[encoded data removed]",
      "text/plain": [
       "<Figure size 640x480 with 1 Axes>"
      ]
     },
     "metadata": {},
     "output_type": "display_data"
    }
   ],
   "source": [
    "# Create a scatterplot using matplotlib for another look at how the chosen variables plot against each other.\n",
    "\n",
    "df.plot(x = 'yr_built', y='price',style='o')\n",
    "plt.title('Year Built vs House Price')  \n",
    "plt.xlabel('Year Built')  \n",
    "plt.ylabel('House Price ($)')  \n",
    "plt.show()"
   ]
  },
  {
   "cell_type": "markdown",
   "id": "b9de792b-c872-42c5-953c-6481c8ae6518",
   "metadata": {},
   "source": [
    "#### 4.3 Regression analysis"
   ]
  },
  {
   "cell_type": "markdown",
   "id": "503b32ed-3ce8-465f-beab-a59e0935f371",
   "metadata": {},
   "source": [
    "##### 4.3.1 Reshape the variables"
   ]
  },
  {
   "cell_type": "code",
   "execution_count": 49,
   "id": "bc3a5b58-0c7d-4a95-af5e-1c620dd1a5ff",
   "metadata": {},
   "outputs": [],
   "source": [
    "# Split the data into subsets for yr_built <= 1980  and > 1980\n",
    "old_house = df_cleaned[df_cleaned['yr_built'] <= 1980]\n",
    "new_house = df_cleaned[df_cleaned['yr_built'] > 1980]"
   ]
  },
  {
   "cell_type": "code",
   "execution_count": 50,
   "id": "aca361cf-bdd5-4ca8-88d7-12ae6da2add0",
   "metadata": {},
   "outputs": [],
   "source": [
    "# Reshape the variables into NumPy arrays and put them into separate objects.\n",
    "\n",
    "# yr_built <= 1980\n",
    "X_old = old_house['yr_built'].values.reshape(-1,1)\n",
    "y_old = old_house['price'].values.reshape(-1,1)\n",
    "\n",
    "# yr_built > 1980\n",
    "X_new = new_house['yr_built'].values.reshape(-1,1)\n",
    "y_new = new_house['price'].values.reshape(-1,1)"
   ]
  },
  {
   "cell_type": "code",
   "execution_count": 51,
   "id": "73d7d16e-0d3b-4a3b-8f1e-8e4592b40271",
   "metadata": {},
   "outputs": [
    {
     "data": {
      "text/plain": [
       "array([[1955],\n",
       "       [1951],\n",
       "       [1933],\n",
       "       ...,\n",
       "       [1953],\n",
       "       [1943],\n",
       "       [1943]], dtype=int64)"
      ]
     },
     "execution_count": 51,
     "metadata": {},
     "output_type": "execute_result"
    }
   ],
   "source": [
    "X_old"
   ]
  },
  {
   "cell_type": "code",
   "execution_count": 52,
   "id": "edf4b3bd-45c1-4c15-9f27-cfb7b7f03896",
   "metadata": {},
   "outputs": [
    {
     "data": {
      "text/plain": [
       "array([[221900],\n",
       "       [538000],\n",
       "       [180000],\n",
       "       ...,\n",
       "       [332220],\n",
       "       [249000],\n",
       "       [399950]], dtype=int64)"
      ]
     },
     "execution_count": 52,
     "metadata": {},
     "output_type": "execute_result"
    }
   ],
   "source": [
    "y_old"
   ]
  },
  {
   "cell_type": "code",
   "execution_count": 53,
   "id": "d8c0c412-d473-48b0-a9dc-6a1b9ce430ba",
   "metadata": {},
   "outputs": [
    {
     "data": {
      "text/plain": [
       "array([[1987],\n",
       "       [1995],\n",
       "       [2003],\n",
       "       ...,\n",
       "       [2009],\n",
       "       [2004],\n",
       "       [2008]], dtype=int64)"
      ]
     },
     "execution_count": 53,
     "metadata": {},
     "output_type": "execute_result"
    }
   ],
   "source": [
    "X_new"
   ]
  },
  {
   "cell_type": "code",
   "execution_count": 54,
   "id": "5264348e-268f-446d-a099-b3786dc8c696",
   "metadata": {},
   "outputs": [
    {
     "data": {
      "text/plain": [
       "array([[510000],\n",
       "       [257500],\n",
       "       [323000],\n",
       "       ...,\n",
       "       [402101],\n",
       "       [400000],\n",
       "       [325000]], dtype=int64)"
      ]
     },
     "execution_count": 54,
     "metadata": {},
     "output_type": "execute_result"
    }
   ],
   "source": [
    "y_new"
   ]
  },
  {
   "cell_type": "markdown",
   "id": "2c462e1d-c499-433e-9e16-777a6de46788",
   "metadata": {},
   "source": [
    "##### 4.3.2 Split the data into a training set and a test set"
   ]
  },
  {
   "cell_type": "code",
   "execution_count": 55,
   "id": "f01101c9-5369-4a92-974b-91eaa275dce2",
   "metadata": {},
   "outputs": [],
   "source": [
    "# Split data into a training set and a test set.\n",
    "# training set = 70%, test set = 30%\n",
    "\n",
    "# yr_built <= 1980\n",
    "X_old_train, X_old_test, y_old_train, y_old_test = train_test_split(X_old, y_old, test_size=0.3, random_state=0)\n",
    "\n",
    "# yr_built > 1980\n",
    "X_new_train, X_new_test, y_new_train, y_new_test = train_test_split(X_new, y_new, test_size=0.3, random_state=0)"
   ]
  },
  {
   "cell_type": "markdown",
   "id": "162370c2-d451-43ff-889e-0ebc977bb0b6",
   "metadata": {},
   "source": [
    "##### 4.3.3 Start regression analysis"
   ]
  },
  {
   "cell_type": "code",
   "execution_count": 56,
   "id": "cf983649-c796-4757-b709-23f27a86ad0e",
   "metadata": {},
   "outputs": [],
   "source": [
    "# Create a regression object.\n",
    "regression_old = LinearRegression()  # This is the regression object, which will be fit onto the training set.\n",
    "regression_new = LinearRegression()"
   ]
  },
  {
   "cell_type": "code",
   "execution_count": 57,
   "id": "0f0b6d75-319a-400e-8f70-83474ce3a35b",
   "metadata": {},
   "outputs": [
    {
     "data": {
      "text/html": [
       "<style>#sk-container-id-2 {\n",
       "  /* Definition of color scheme common for light and dark mode */\n",
       "  --sklearn-color-text: black;\n",
       "  --sklearn-color-line: gray;\n",
       "  /* Definition of color scheme for unfitted estimators */\n",
       "  --sklearn-color-unfitted-level-0: #fff5e6;\n",
       "  --sklearn-color-unfitted-level-1: #f6e4d2;\n",
       "  --sklearn-color-unfitted-level-2: #ffe0b3;\n",
       "  --sklearn-color-unfitted-level-3: chocolate;\n",
       "  /* Definition of color scheme for fitted estimators */\n",
       "  --sklearn-color-fitted-level-0: #f0f8ff;\n",
       "  --sklearn-color-fitted-level-1: #d4ebff;\n",
       "  --sklearn-color-fitted-level-2: #b3dbfd;\n",
       "  --sklearn-color-fitted-level-3: cornflowerblue;\n",
       "\n",
       "  /* Specific color for light theme */\n",
       "  --sklearn-color-text-on-default-background: var(--sg-text-color, var(--theme-code-foreground, var(--jp-content-font-color1, black)));\n",
       "  --sklearn-color-background: var(--sg-background-color, var(--theme-background, var(--jp-layout-color0, white)));\n",
       "  --sklearn-color-border-box: var(--sg-text-color, var(--theme-code-foreground, var(--jp-content-font-color1, black)));\n",
       "  --sklearn-color-icon: #696969;\n",
       "\n",
       "  @media (prefers-color-scheme: dark) {\n",
       "    /* Redefinition of color scheme for dark theme */\n",
       "    --sklearn-color-text-on-default-background: var(--sg-text-color, var(--theme-code-foreground, var(--jp-content-font-color1, white)));\n",
       "    --sklearn-color-background: var(--sg-background-color, var(--theme-background, var(--jp-layout-color0, #111)));\n",
       "    --sklearn-color-border-box: var(--sg-text-color, var(--theme-code-foreground, var(--jp-content-font-color1, white)));\n",
       "    --sklearn-color-icon: #878787;\n",
       "  }\n",
       "}\n",
       "\n",
       "#sk-container-id-2 {\n",
       "  color: var(--sklearn-color-text);\n",
       "}\n",
       "\n",
       "#sk-container-id-2 pre {\n",
       "  padding: 0;\n",
       "}\n",
       "\n",
       "#sk-container-id-2 input.sk-hidden--visually {\n",
       "  border: 0;\n",
       "  clip: rect(1px 1px 1px 1px);\n",
       "  clip: rect(1px, 1px, 1px, 1px);\n",
       "  height: 1px;\n",
       "  margin: -1px;\n",
       "  overflow: hidden;\n",
       "  padding: 0;\n",
       "  position: absolute;\n",
       "  width: 1px;\n",
       "}\n",
       "\n",
       "#sk-container-id-2 div.sk-dashed-wrapped {\n",
       "  border: 1px dashed var(--sklearn-color-line);\n",
       "  margin: 0 0.4em 0.5em 0.4em;\n",
       "  box-sizing: border-box;\n",
       "  padding-bottom: 0.4em;\n",
       "  background-color: var(--sklearn-color-background);\n",
       "}\n",
       "\n",
       "#sk-container-id-2 div.sk-container {\n",
       "  /* jupyter's `normalize.less` sets `[hidden] { display: none; }`\n",
       "     but bootstrap.min.css set `[hidden] { display: none !important; }`\n",
       "     so we also need the `!important` here to be able to override the\n",
       "     default hidden behavior on the sphinx rendered scikit-learn.org.\n",
       "     See: https://github.com/scikit-learn/scikit-learn/issues/21755 */\n",
       "  display: inline-block !important;\n",
       "  position: relative;\n",
       "}\n",
       "\n",
       "#sk-container-id-2 div.sk-text-repr-fallback {\n",
       "  display: none;\n",
       "}\n",
       "\n",
       "div.sk-parallel-item,\n",
       "div.sk-serial,\n",
       "div.sk-item {\n",
       "  /* draw centered vertical line to link estimators */\n",
       "  background-image: linear-gradient(var(--sklearn-color-text-on-default-background), var(--sklearn-color-text-on-default-background));\n",
       "  background-size: 2px 100%;\n",
       "  background-repeat: no-repeat;\n",
       "  background-position: center center;\n",
       "}\n",
       "\n",
       "/* Parallel-specific style estimator block */\n",
       "\n",
       "#sk-container-id-2 div.sk-parallel-item::after {\n",
       "  content: \"\";\n",
       "  width: 100%;\n",
       "  border-bottom: 2px solid var(--sklearn-color-text-on-default-background);\n",
       "  flex-grow: 1;\n",
       "}\n",
       "\n",
       "#sk-container-id-2 div.sk-parallel {\n",
       "  display: flex;\n",
       "  align-items: stretch;\n",
       "  justify-content: center;\n",
       "  background-color: var(--sklearn-color-background);\n",
       "  position: relative;\n",
       "}\n",
       "\n",
       "#sk-container-id-2 div.sk-parallel-item {\n",
       "  display: flex;\n",
       "  flex-direction: column;\n",
       "}\n",
       "\n",
       "#sk-container-id-2 div.sk-parallel-item:first-child::after {\n",
       "  align-self: flex-end;\n",
       "  width: 50%;\n",
       "}\n",
       "\n",
       "#sk-container-id-2 div.sk-parallel-item:last-child::after {\n",
       "  align-self: flex-start;\n",
       "  width: 50%;\n",
       "}\n",
       "\n",
       "#sk-container-id-2 div.sk-parallel-item:only-child::after {\n",
       "  width: 0;\n",
       "}\n",
       "\n",
       "/* Serial-specific style estimator block */\n",
       "\n",
       "#sk-container-id-2 div.sk-serial {\n",
       "  display: flex;\n",
       "  flex-direction: column;\n",
       "  align-items: center;\n",
       "  background-color: var(--sklearn-color-background);\n",
       "  padding-right: 1em;\n",
       "  padding-left: 1em;\n",
       "}\n",
       "\n",
       "\n",
       "/* Toggleable style: style used for estimator/Pipeline/ColumnTransformer box that is\n",
       "clickable and can be expanded/collapsed.\n",
       "- Pipeline and ColumnTransformer use this feature and define the default style\n",
       "- Estimators will overwrite some part of the style using the `sk-estimator` class\n",
       "*/\n",
       "\n",
       "/* Pipeline and ColumnTransformer style (default) */\n",
       "\n",
       "#sk-container-id-2 div.sk-toggleable {\n",
       "  /* Default theme specific background. It is overwritten whether we have a\n",
       "  specific estimator or a Pipeline/ColumnTransformer */\n",
       "  background-color: var(--sklearn-color-background);\n",
       "}\n",
       "\n",
       "/* Toggleable label */\n",
       "#sk-container-id-2 label.sk-toggleable__label {\n",
       "  cursor: pointer;\n",
       "  display: block;\n",
       "  width: 100%;\n",
       "  margin-bottom: 0;\n",
       "  padding: 0.5em;\n",
       "  box-sizing: border-box;\n",
       "  text-align: center;\n",
       "}\n",
       "\n",
       "#sk-container-id-2 label.sk-toggleable__label-arrow:before {\n",
       "  /* Arrow on the left of the label */\n",
       "  content: \"▸\";\n",
       "  float: left;\n",
       "  margin-right: 0.25em;\n",
       "  color: var(--sklearn-color-icon);\n",
       "}\n",
       "\n",
       "#sk-container-id-2 label.sk-toggleable__label-arrow:hover:before {\n",
       "  color: var(--sklearn-color-text);\n",
       "}\n",
       "\n",
       "/* Toggleable content - dropdown */\n",
       "\n",
       "#sk-container-id-2 div.sk-toggleable__content {\n",
       "  max-height: 0;\n",
       "  max-width: 0;\n",
       "  overflow: hidden;\n",
       "  text-align: left;\n",
       "  /* unfitted */\n",
       "  background-color: var(--sklearn-color-unfitted-level-0);\n",
       "}\n",
       "\n",
       "#sk-container-id-2 div.sk-toggleable__content.fitted {\n",
       "  /* fitted */\n",
       "  background-color: var(--sklearn-color-fitted-level-0);\n",
       "}\n",
       "\n",
       "#sk-container-id-2 div.sk-toggleable__content pre {\n",
       "  margin: 0.2em;\n",
       "  border-radius: 0.25em;\n",
       "  color: var(--sklearn-color-text);\n",
       "  /* unfitted */\n",
       "  background-color: var(--sklearn-color-unfitted-level-0);\n",
       "}\n",
       "\n",
       "#sk-container-id-2 div.sk-toggleable__content.fitted pre {\n",
       "  /* unfitted */\n",
       "  background-color: var(--sklearn-color-fitted-level-0);\n",
       "}\n",
       "\n",
       "#sk-container-id-2 input.sk-toggleable__control:checked~div.sk-toggleable__content {\n",
       "  /* Expand drop-down */\n",
       "  max-height: 200px;\n",
       "  max-width: 100%;\n",
       "  overflow: auto;\n",
       "}\n",
       "\n",
       "#sk-container-id-2 input.sk-toggleable__control:checked~label.sk-toggleable__label-arrow:before {\n",
       "  content: \"▾\";\n",
       "}\n",
       "\n",
       "/* Pipeline/ColumnTransformer-specific style */\n",
       "\n",
       "#sk-container-id-2 div.sk-label input.sk-toggleable__control:checked~label.sk-toggleable__label {\n",
       "  color: var(--sklearn-color-text);\n",
       "  background-color: var(--sklearn-color-unfitted-level-2);\n",
       "}\n",
       "\n",
       "#sk-container-id-2 div.sk-label.fitted input.sk-toggleable__control:checked~label.sk-toggleable__label {\n",
       "  background-color: var(--sklearn-color-fitted-level-2);\n",
       "}\n",
       "\n",
       "/* Estimator-specific style */\n",
       "\n",
       "/* Colorize estimator box */\n",
       "#sk-container-id-2 div.sk-estimator input.sk-toggleable__control:checked~label.sk-toggleable__label {\n",
       "  /* unfitted */\n",
       "  background-color: var(--sklearn-color-unfitted-level-2);\n",
       "}\n",
       "\n",
       "#sk-container-id-2 div.sk-estimator.fitted input.sk-toggleable__control:checked~label.sk-toggleable__label {\n",
       "  /* fitted */\n",
       "  background-color: var(--sklearn-color-fitted-level-2);\n",
       "}\n",
       "\n",
       "#sk-container-id-2 div.sk-label label.sk-toggleable__label,\n",
       "#sk-container-id-2 div.sk-label label {\n",
       "  /* The background is the default theme color */\n",
       "  color: var(--sklearn-color-text-on-default-background);\n",
       "}\n",
       "\n",
       "/* On hover, darken the color of the background */\n",
       "#sk-container-id-2 div.sk-label:hover label.sk-toggleable__label {\n",
       "  color: var(--sklearn-color-text);\n",
       "  background-color: var(--sklearn-color-unfitted-level-2);\n",
       "}\n",
       "\n",
       "/* Label box, darken color on hover, fitted */\n",
       "#sk-container-id-2 div.sk-label.fitted:hover label.sk-toggleable__label.fitted {\n",
       "  color: var(--sklearn-color-text);\n",
       "  background-color: var(--sklearn-color-fitted-level-2);\n",
       "}\n",
       "\n",
       "/* Estimator label */\n",
       "\n",
       "#sk-container-id-2 div.sk-label label {\n",
       "  font-family: monospace;\n",
       "  font-weight: bold;\n",
       "  display: inline-block;\n",
       "  line-height: 1.2em;\n",
       "}\n",
       "\n",
       "#sk-container-id-2 div.sk-label-container {\n",
       "  text-align: center;\n",
       "}\n",
       "\n",
       "/* Estimator-specific */\n",
       "#sk-container-id-2 div.sk-estimator {\n",
       "  font-family: monospace;\n",
       "  border: 1px dotted var(--sklearn-color-border-box);\n",
       "  border-radius: 0.25em;\n",
       "  box-sizing: border-box;\n",
       "  margin-bottom: 0.5em;\n",
       "  /* unfitted */\n",
       "  background-color: var(--sklearn-color-unfitted-level-0);\n",
       "}\n",
       "\n",
       "#sk-container-id-2 div.sk-estimator.fitted {\n",
       "  /* fitted */\n",
       "  background-color: var(--sklearn-color-fitted-level-0);\n",
       "}\n",
       "\n",
       "/* on hover */\n",
       "#sk-container-id-2 div.sk-estimator:hover {\n",
       "  /* unfitted */\n",
       "  background-color: var(--sklearn-color-unfitted-level-2);\n",
       "}\n",
       "\n",
       "#sk-container-id-2 div.sk-estimator.fitted:hover {\n",
       "  /* fitted */\n",
       "  background-color: var(--sklearn-color-fitted-level-2);\n",
       "}\n",
       "\n",
       "/* Specification for estimator info (e.g. \"i\" and \"?\") */\n",
       "\n",
       "/* Common style for \"i\" and \"?\" */\n",
       "\n",
       ".sk-estimator-doc-link,\n",
       "a:link.sk-estimator-doc-link,\n",
       "a:visited.sk-estimator-doc-link {\n",
       "  float: right;\n",
       "  font-size: smaller;\n",
       "  line-height: 1em;\n",
       "  font-family: monospace;\n",
       "  background-color: var(--sklearn-color-background);\n",
       "  border-radius: 1em;\n",
       "  height: 1em;\n",
       "  width: 1em;\n",
       "  text-decoration: none !important;\n",
       "  margin-left: 1ex;\n",
       "  /* unfitted */\n",
       "  border: var(--sklearn-color-unfitted-level-1) 1pt solid;\n",
       "  color: var(--sklearn-color-unfitted-level-1);\n",
       "}\n",
       "\n",
       ".sk-estimator-doc-link.fitted,\n",
       "a:link.sk-estimator-doc-link.fitted,\n",
       "a:visited.sk-estimator-doc-link.fitted {\n",
       "  /* fitted */\n",
       "  border: var(--sklearn-color-fitted-level-1) 1pt solid;\n",
       "  color: var(--sklearn-color-fitted-level-1);\n",
       "}\n",
       "\n",
       "/* On hover */\n",
       "div.sk-estimator:hover .sk-estimator-doc-link:hover,\n",
       ".sk-estimator-doc-link:hover,\n",
       "div.sk-label-container:hover .sk-estimator-doc-link:hover,\n",
       ".sk-estimator-doc-link:hover {\n",
       "  /* unfitted */\n",
       "  background-color: var(--sklearn-color-unfitted-level-3);\n",
       "  color: var(--sklearn-color-background);\n",
       "  text-decoration: none;\n",
       "}\n",
       "\n",
       "div.sk-estimator.fitted:hover .sk-estimator-doc-link.fitted:hover,\n",
       ".sk-estimator-doc-link.fitted:hover,\n",
       "div.sk-label-container:hover .sk-estimator-doc-link.fitted:hover,\n",
       ".sk-estimator-doc-link.fitted:hover {\n",
       "  /* fitted */\n",
       "  background-color: var(--sklearn-color-fitted-level-3);\n",
       "  color: var(--sklearn-color-background);\n",
       "  text-decoration: none;\n",
       "}\n",
       "\n",
       "/* Span, style for the box shown on hovering the info icon */\n",
       ".sk-estimator-doc-link span {\n",
       "  display: none;\n",
       "  z-index: 9999;\n",
       "  position: relative;\n",
       "  font-weight: normal;\n",
       "  right: .2ex;\n",
       "  padding: .5ex;\n",
       "  margin: .5ex;\n",
       "  width: min-content;\n",
       "  min-width: 20ex;\n",
       "  max-width: 50ex;\n",
       "  color: var(--sklearn-color-text);\n",
       "  box-shadow: 2pt 2pt 4pt #999;\n",
       "  /* unfitted */\n",
       "  background: var(--sklearn-color-unfitted-level-0);\n",
       "  border: .5pt solid var(--sklearn-color-unfitted-level-3);\n",
       "}\n",
       "\n",
       ".sk-estimator-doc-link.fitted span {\n",
       "  /* fitted */\n",
       "  background: var(--sklearn-color-fitted-level-0);\n",
       "  border: var(--sklearn-color-fitted-level-3);\n",
       "}\n",
       "\n",
       ".sk-estimator-doc-link:hover span {\n",
       "  display: block;\n",
       "}\n",
       "\n",
       "/* \"?\"-specific style due to the `<a>` HTML tag */\n",
       "\n",
       "#sk-container-id-2 a.estimator_doc_link {\n",
       "  float: right;\n",
       "  font-size: 1rem;\n",
       "  line-height: 1em;\n",
       "  font-family: monospace;\n",
       "  background-color: var(--sklearn-color-background);\n",
       "  border-radius: 1rem;\n",
       "  height: 1rem;\n",
       "  width: 1rem;\n",
       "  text-decoration: none;\n",
       "  /* unfitted */\n",
       "  color: var(--sklearn-color-unfitted-level-1);\n",
       "  border: var(--sklearn-color-unfitted-level-1) 1pt solid;\n",
       "}\n",
       "\n",
       "#sk-container-id-2 a.estimator_doc_link.fitted {\n",
       "  /* fitted */\n",
       "  border: var(--sklearn-color-fitted-level-1) 1pt solid;\n",
       "  color: var(--sklearn-color-fitted-level-1);\n",
       "}\n",
       "\n",
       "/* On hover */\n",
       "#sk-container-id-2 a.estimator_doc_link:hover {\n",
       "  /* unfitted */\n",
       "  background-color: var(--sklearn-color-unfitted-level-3);\n",
       "  color: var(--sklearn-color-background);\n",
       "  text-decoration: none;\n",
       "}\n",
       "\n",
       "#sk-container-id-2 a.estimator_doc_link.fitted:hover {\n",
       "  /* fitted */\n",
       "  background-color: var(--sklearn-color-fitted-level-3);\n",
       "}\n",
       "</style><div id=\"sk-container-id-2\" class=\"sk-top-container\"><div class=\"sk-text-repr-fallback\"><pre>LinearRegression()</pre><b>In a Jupyter environment, please rerun this cell to show the HTML representation or trust the notebook. <br />On GitHub, the HTML representation is unable to render, please try loading this page with nbviewer.org.</b></div><div class=\"sk-container\" hidden><div class=\"sk-item\"><div class=\"sk-estimator fitted sk-toggleable\"><input class=\"sk-toggleable__control sk-hidden--visually\" id=\"sk-estimator-id-2\" type=\"checkbox\" checked><label for=\"sk-estimator-id-2\" class=\"sk-toggleable__label fitted sk-toggleable__label-arrow fitted\">&nbsp;&nbsp;LinearRegression<a class=\"sk-estimator-doc-link fitted\" rel=\"noreferrer\" target=\"_blank\" href=\"https://scikit-learn.org/1.4/modules/generated/sklearn.linear_model.LinearRegression.html\">?<span>Documentation for LinearRegression</span></a><span class=\"sk-estimator-doc-link fitted\">i<span>Fitted</span></span></label><div class=\"sk-toggleable__content fitted\"><pre>LinearRegression()</pre></div> </div></div></div></div>"
      ],
      "text/plain": [
       "LinearRegression()"
      ]
     },
     "execution_count": 57,
     "metadata": {},
     "output_type": "execute_result"
    }
   ],
   "source": [
    "# Fit the regression object onto the training set.\n",
    "\n",
    "# yr_built <= 1980\n",
    "regression_old.fit(X_old_train, y_old_train)\n",
    "\n",
    "# yr_built > 1980\n",
    "regression_new.fit(X_new_train, y_new_train)"
   ]
  },
  {
   "cell_type": "code",
   "execution_count": 58,
   "id": "a3e06de6-c1de-441e-93d8-b690cdfaa59c",
   "metadata": {},
   "outputs": [],
   "source": [
    "# Predict the values of y using X.\n",
    "\n",
    "# yr_built <= 1980\n",
    "y_old_predicted = regression_old.predict(X_old_test)\n",
    "\n",
    "# yr_built > 1980\n",
    "y_new_predicted = regression_new.predict(X_new_test)"
   ]
  },
  {
   "cell_type": "markdown",
   "id": "684855e5-6b0e-423c-8b37-50854f0783a7",
   "metadata": {},
   "source": [
    "##### Regression line on the test set"
   ]
  },
  {
   "cell_type": "markdown",
   "id": "3fe078d2-8975-4ce7-910e-ca3c4d1a0b68",
   "metadata": {},
   "source": [
    "##### Old houses: year built <= 1980"
   ]
  },
  {
   "cell_type": "code",
   "execution_count": 59,
   "id": "02792087-4d27-4894-a533-efe61d82df3f",
   "metadata": {},
   "outputs": [
    {
     "data": {
      "image/png": "[encoded data removed]",
      "text/plain": [
       "<Figure size 640x480 with 1 Axes>"
      ]
     },
     "metadata": {},
     "output_type": "display_data"
    }
   ],
   "source": [
    "# Create a plot that shows the regression line from the model on the test set.\n",
    "\n",
    "plot_test = plt\n",
    "plot_test.scatter(X_old_test, y_old_test, color='gray', s = 15)\n",
    "plot_test.plot(X_old_test, y_old_predicted, color='red', linewidth =3)\n",
    "plot_test.title('Year Built (<= 1980) vs House Price (Test set)')\n",
    "plot_test.xlabel('Year Built')\n",
    "plot_test.ylabel('House Price ($)')\n",
    "plot_test.show()"
   ]
  },
  {
   "cell_type": "markdown",
   "id": "3b45e246-b204-4fa6-94a1-048836c2f80d",
   "metadata": {},
   "source": [
    "##### New houses: year built > 1980"
   ]
  },
  {
   "cell_type": "code",
   "execution_count": 60,
   "id": "fec7e762-64b5-4bb8-925f-e6dd01cc8faf",
   "metadata": {},
   "outputs": [
    {
     "data": {
      "image/png": "[encoded data removed]",
      "text/plain": [
       "<Figure size 640x480 with 1 Axes>"
      ]
     },
     "metadata": {},
     "output_type": "display_data"
    }
   ],
   "source": [
    "# Create a plot that shows the regression line from the model on the test set.\n",
    "\n",
    "plot_test = plt\n",
    "plot_test.scatter(X_new_test, y_new_test, color='gray', s = 15)\n",
    "plot_test.plot(X_new_test, y_new_predicted, color='red', linewidth =3)\n",
    "plot_test.title('Year Built (> 1980) vs House Price (Test set)')\n",
    "plot_test.xlabel('Year Built')\n",
    "plot_test.ylabel('House Price ($)')\n",
    "plot_test.show()"
   ]
  },
  {
   "cell_type": "markdown",
   "id": "67d454dc-8175-458e-b4f7-cdf059f5357b",
   "metadata": {},
   "source": [
    "##### Comparing the two charts above:\n",
    "\n",
    "1. The red regression line for houses built in or before 1980 has a negative slope, indicating that house prices decrease as the year built becomes older (lower year).\n",
    "2. In contrast, the red regression line for houses built after 1980 has a positive slope, suggesting that house prices increase as the year built becomes newer (higher year).\n",
    "3. However, we can observe that data points are widely scattered around the regression lines in both charts. This indicates a weak relationship between the two variables in each case.\n",
    "\n",
    "To properly evaluate the model's accuracy, relying solely on visual inspection is insufficient. It is essential to assess its performance using statistical metrics such as Mean Squared Error (MSE) and R² score for a more precise analysis."
   ]
  },
  {
   "cell_type": "markdown",
   "id": "b5dcdaa6-2060-440b-bdb3-0309151450d5",
   "metadata": {},
   "source": [
    "##### 4.3.4 Check the model performance statistics (MSE and R2 score)"
   ]
  },
  {
   "cell_type": "markdown",
   "id": "72faa0ed-700a-49fe-84be-b738523a585d",
   "metadata": {},
   "source": [
    "##### Year built <= 1980"
   ]
  },
  {
   "cell_type": "code",
   "execution_count": 61,
   "id": "22338f4b-c0ec-4246-85cb-a280bd0833c5",
   "metadata": {},
   "outputs": [],
   "source": [
    "# Create objects that contain the model summary statistics.\n",
    "\n",
    "# This is the mean squared error\n",
    "rmse_old = mean_squared_error(y_old_test, y_old_predicted) \n",
    "\n",
    "# This is the R2 score. \n",
    "r2_old = r2_score(y_old_test, y_old_predicted) # This is the R2 score. "
   ]
  },
  {
   "cell_type": "code",
   "execution_count": 62,
   "id": "14c83921-781f-49a9-920d-223e826c8492",
   "metadata": {},
   "outputs": [
    {
     "name": "stdout",
     "output_type": "stream",
     "text": [
      "Slope: [[-1454.75715616]]\n",
      "Mean squared error:  42272505144.45635\n",
      "R2 score:  0.020638227126639652\n"
     ]
    }
   ],
   "source": [
    "print('Slope:' ,regression_old.coef_)\n",
    "print('Mean squared error: ', rmse_old)\n",
    "print('R2 score: ', r2_old)"
   ]
  },
  {
   "cell_type": "markdown",
   "id": "7c57f936-9320-4045-80ef-793616ee5b65",
   "metadata": {},
   "source": [
    "##### Year built > 1980"
   ]
  },
  {
   "cell_type": "code",
   "execution_count": 63,
   "id": "78ec2544-a989-4141-87b5-1c73a60134b0",
   "metadata": {},
   "outputs": [],
   "source": [
    "# Create objects that contain the model summary statistics.\n",
    "\n",
    "# This is the mean squared error\n",
    "rmse_new = mean_squared_error(y_new_test, y_new_predicted) \n",
    "\n",
    "# This is the R2 score. \n",
    "r2_new = r2_score(y_new_test, y_new_predicted) # This is the R2 score. "
   ]
  },
  {
   "cell_type": "code",
   "execution_count": 64,
   "id": "63fa0a2a-791c-471e-85cd-942bd4ec0934",
   "metadata": {},
   "outputs": [
    {
     "name": "stdout",
     "output_type": "stream",
     "text": [
      "Slope: [[2148.73805838]]\n",
      "Mean squared error:  40290431267.14182\n",
      "R2 score:  0.00940115036892708\n"
     ]
    }
   ],
   "source": [
    "print('Slope:' ,regression_new.coef_)\n",
    "print('Mean squared error: ', rmse_new)\n",
    "print('R2 score: ', r2_new)"
   ]
  },
  {
   "cell_type": "markdown",
   "id": "0ba9d293-d6ac-4b91-beb9-0cf88489cdaa",
   "metadata": {},
   "source": [
    "We can see that the R2 scores on both charts are very low and not close to 1, indicating a very weak relationship between the two variables in each chart. Additionally, when comparing the slope values of both charts:\n",
    "\n",
    "1. Houses with a year built ≤ 1980 have negative slope values, meaning that as the year decreases (older houses), the house price increases.\n",
    "2. Houses with a year built > 1980 have positive slope values, meaning that as the year increases (newer houses), the house price increases.\n",
    "\n",
    "These observations support our earlier analysis before calculating these statistical metrics. "
   ]
  },
  {
   "cell_type": "markdown",
   "id": "94b0ab97-14e0-4fd9-b828-454ade95cfd3",
   "metadata": {},
   "source": [
    "##### 4.3.5 Compare the predicted y values with the actual y values"
   ]
  },
  {
   "cell_type": "markdown",
   "id": "30021a37-50e0-450c-9ff1-3f399fab64b2",
   "metadata": {},
   "source": [
    "##### Year built <= 1980"
   ]
  },
  {
   "cell_type": "code",
   "execution_count": 65,
   "id": "eb771230-a5eb-4d06-94c7-85ff9d5fd3e5",
   "metadata": {},
   "outputs": [
    {
     "data": {
      "text/plain": [
       "array([[429289.11776082],\n",
       "       [448200.96079093],\n",
       "       [417651.06051152],\n",
       "       ...,\n",
       "       [436562.90354163],\n",
       "       [464203.28950872],\n",
       "       [490388.91831964]])"
      ]
     },
     "execution_count": 65,
     "metadata": {},
     "output_type": "execute_result"
    }
   ],
   "source": [
    "y_old_predicted"
   ]
  },
  {
   "cell_type": "code",
   "execution_count": 66,
   "id": "dd81d297-4660-4693-b8b4-8bd2f79255c2",
   "metadata": {},
   "outputs": [],
   "source": [
    "# Create a dataframe comparing the actual and predicted values of y.\n",
    "data_old_house = pd.DataFrame({'Actual': y_old_test.flatten(), 'Predicted': y_old_predicted.flatten()})\n",
    "\n",
    "# Prevent large numbers from displaying in scientific format\n",
    "pd.options.display.float_format = '{:,.0f}'.format"
   ]
  },
  {
   "cell_type": "code",
   "execution_count": 67,
   "id": "1440bdad-7a1c-4c7c-865a-4fa13087e575",
   "metadata": {},
   "outputs": [
    {
     "data": {
      "text/html": [
       "<div>\n",
       "<style scoped>\n",
       "    .dataframe tbody tr th:only-of-type {\n",
       "        vertical-align: middle;\n",
       "    }\n",
       "\n",
       "    .dataframe tbody tr th {\n",
       "        vertical-align: top;\n",
       "    }\n",
       "\n",
       "    .dataframe thead th {\n",
       "        text-align: right;\n",
       "    }\n",
       "</style>\n",
       "<table border=\"1\" class=\"dataframe\">\n",
       "  <thead>\n",
       "    <tr style=\"text-align: right;\">\n",
       "      <th></th>\n",
       "      <th>Actual</th>\n",
       "      <th>Predicted</th>\n",
       "    </tr>\n",
       "  </thead>\n",
       "  <tbody>\n",
       "    <tr>\n",
       "      <th>0</th>\n",
       "      <td>358000</td>\n",
       "      <td>429,289</td>\n",
       "    </tr>\n",
       "    <tr>\n",
       "      <th>1</th>\n",
       "      <td>950000</td>\n",
       "      <td>448,201</td>\n",
       "    </tr>\n",
       "    <tr>\n",
       "      <th>2</th>\n",
       "      <td>183500</td>\n",
       "      <td>417,651</td>\n",
       "    </tr>\n",
       "    <tr>\n",
       "      <th>3</th>\n",
       "      <td>1000000</td>\n",
       "      <td>411,832</td>\n",
       "    </tr>\n",
       "    <tr>\n",
       "      <th>4</th>\n",
       "      <td>475000</td>\n",
       "      <td>413,287</td>\n",
       "    </tr>\n",
       "    <tr>\n",
       "      <th>...</th>\n",
       "      <td>...</td>\n",
       "      <td>...</td>\n",
       "    </tr>\n",
       "    <tr>\n",
       "      <th>3592</th>\n",
       "      <td>371000</td>\n",
       "      <td>411,832</td>\n",
       "    </tr>\n",
       "    <tr>\n",
       "      <th>3593</th>\n",
       "      <td>935000</td>\n",
       "      <td>522,394</td>\n",
       "    </tr>\n",
       "    <tr>\n",
       "      <th>3594</th>\n",
       "      <td>160000</td>\n",
       "      <td>436,563</td>\n",
       "    </tr>\n",
       "    <tr>\n",
       "      <th>3595</th>\n",
       "      <td>375000</td>\n",
       "      <td>464,203</td>\n",
       "    </tr>\n",
       "    <tr>\n",
       "      <th>3596</th>\n",
       "      <td>1000000</td>\n",
       "      <td>490,389</td>\n",
       "    </tr>\n",
       "  </tbody>\n",
       "</table>\n",
       "<p>3597 rows × 2 columns</p>\n",
       "</div>"
      ],
      "text/plain": [
       "       Actual  Predicted\n",
       "0      358000    429,289\n",
       "1      950000    448,201\n",
       "2      183500    417,651\n",
       "3     1000000    411,832\n",
       "4      475000    413,287\n",
       "...       ...        ...\n",
       "3592   371000    411,832\n",
       "3593   935000    522,394\n",
       "3594   160000    436,563\n",
       "3595   375000    464,203\n",
       "3596  1000000    490,389\n",
       "\n",
       "[3597 rows x 2 columns]"
      ]
     },
     "execution_count": 67,
     "metadata": {},
     "output_type": "execute_result"
    }
   ],
   "source": [
    "data_old_house"
   ]
  },
  {
   "cell_type": "code",
   "execution_count": 68,
   "id": "e66668ce-2562-4965-881a-3758e304858e",
   "metadata": {},
   "outputs": [],
   "source": [
    "# Calculate the difference values between actual and predicted values and make it in absolute format\n",
    "data_old_house['different value'] = abs(data_old_house['Actual'] - data_old_house['Predicted'])"
   ]
  },
  {
   "cell_type": "code",
   "execution_count": 69,
   "id": "dcb39c66-c7d6-459a-a135-55bf7c3ecb02",
   "metadata": {},
   "outputs": [
    {
     "data": {
      "text/html": [
       "<div>\n",
       "<style scoped>\n",
       "    .dataframe tbody tr th:only-of-type {\n",
       "        vertical-align: middle;\n",
       "    }\n",
       "\n",
       "    .dataframe tbody tr th {\n",
       "        vertical-align: top;\n",
       "    }\n",
       "\n",
       "    .dataframe thead th {\n",
       "        text-align: right;\n",
       "    }\n",
       "</style>\n",
       "<table border=\"1\" class=\"dataframe\">\n",
       "  <thead>\n",
       "    <tr style=\"text-align: right;\">\n",
       "      <th></th>\n",
       "      <th>Actual</th>\n",
       "      <th>Predicted</th>\n",
       "      <th>different value</th>\n",
       "    </tr>\n",
       "  </thead>\n",
       "  <tbody>\n",
       "    <tr>\n",
       "      <th>0</th>\n",
       "      <td>358000</td>\n",
       "      <td>429,289</td>\n",
       "      <td>71,289</td>\n",
       "    </tr>\n",
       "    <tr>\n",
       "      <th>1</th>\n",
       "      <td>950000</td>\n",
       "      <td>448,201</td>\n",
       "      <td>501,799</td>\n",
       "    </tr>\n",
       "    <tr>\n",
       "      <th>2</th>\n",
       "      <td>183500</td>\n",
       "      <td>417,651</td>\n",
       "      <td>234,151</td>\n",
       "    </tr>\n",
       "    <tr>\n",
       "      <th>3</th>\n",
       "      <td>1000000</td>\n",
       "      <td>411,832</td>\n",
       "      <td>588,168</td>\n",
       "    </tr>\n",
       "    <tr>\n",
       "      <th>4</th>\n",
       "      <td>475000</td>\n",
       "      <td>413,287</td>\n",
       "      <td>61,713</td>\n",
       "    </tr>\n",
       "  </tbody>\n",
       "</table>\n",
       "</div>"
      ],
      "text/plain": [
       "    Actual  Predicted  different value\n",
       "0   358000    429,289           71,289\n",
       "1   950000    448,201          501,799\n",
       "2   183500    417,651          234,151\n",
       "3  1000000    411,832          588,168\n",
       "4   475000    413,287           61,713"
      ]
     },
     "execution_count": 69,
     "metadata": {},
     "output_type": "execute_result"
    }
   ],
   "source": [
    "data_old_house.head()"
   ]
  },
  {
   "cell_type": "code",
   "execution_count": 70,
   "id": "9e328d6a-91ac-469f-8db3-f057adf140c5",
   "metadata": {},
   "outputs": [
    {
     "data": {
      "text/plain": [
       "163994.1747515336"
      ]
     },
     "execution_count": 70,
     "metadata": {},
     "output_type": "execute_result"
    }
   ],
   "source": [
    "# Calculate the average value from the entire data of the different value column\n",
    "data_old_house['different value'].mean()"
   ]
  },
  {
   "cell_type": "code",
   "execution_count": 71,
   "id": "4300928f-b0ca-4d31-b650-78c53bdaf92f",
   "metadata": {},
   "outputs": [
    {
     "data": {
      "text/plain": [
       "450312.05921601335"
      ]
     },
     "execution_count": 71,
     "metadata": {},
     "output_type": "execute_result"
    }
   ],
   "source": [
    "# Calculate the average value from the entire data of the Actual column\n",
    "data_old_house['Actual'].mean()"
   ]
  },
  {
   "cell_type": "code",
   "execution_count": 72,
   "id": "537e2567-c641-4740-848f-0d8c69b300d8",
   "metadata": {},
   "outputs": [
    {
     "data": {
      "text/plain": [
       "0.3641789541169407"
      ]
     },
     "execution_count": 72,
     "metadata": {},
     "output_type": "execute_result"
    }
   ],
   "source": [
    "data_old_house['different value'].mean()/data_old_house['Actual'].mean()"
   ]
  },
  {
   "cell_type": "markdown",
   "id": "6e6dadbf-3d1e-4019-a6cb-f3fa4d8c1ce6",
   "metadata": {},
   "source": [
    "Year built <= 1980 has the error gap approximately 36.4% (average value)."
   ]
  },
  {
   "cell_type": "markdown",
   "id": "db299511-8a1d-4e0b-ae9f-31f5194754e7",
   "metadata": {},
   "source": [
    "##### Year built > 1980"
   ]
  },
  {
   "cell_type": "code",
   "execution_count": 73,
   "id": "d70b4c12-c1d6-424f-8582-cd47f3fab436",
   "metadata": {},
   "outputs": [
    {
     "data": {
      "text/plain": [
       "array([[513513.50857239],\n",
       "       [504918.55633886],\n",
       "       [502769.81828048],\n",
       "       ...,\n",
       "       [500621.0802221 ],\n",
       "       [522108.46080592],\n",
       "       [530703.41303945]])"
      ]
     },
     "execution_count": 73,
     "metadata": {},
     "output_type": "execute_result"
    }
   ],
   "source": [
    "y_new_predicted"
   ]
  },
  {
   "cell_type": "code",
   "execution_count": 74,
   "id": "7ea30162-dfd5-4fb6-9872-9351e0d29dcc",
   "metadata": {},
   "outputs": [],
   "source": [
    "# Create a dataframe comparing the actual and predicted values of y.\n",
    "data_new_house = pd.DataFrame({'Actual': y_new_test.flatten(), 'Predicted': y_new_predicted.flatten()})\n",
    "\n",
    "# Prevent large numbers from displaying in scientific format\n",
    "pd.options.display.float_format = '{:,.0f}'.format"
   ]
  },
  {
   "cell_type": "code",
   "execution_count": 75,
   "id": "635d720f-36b5-440f-a55f-46e3ed1c4c63",
   "metadata": {},
   "outputs": [
    {
     "data": {
      "text/html": [
       "<div>\n",
       "<style scoped>\n",
       "    .dataframe tbody tr th:only-of-type {\n",
       "        vertical-align: middle;\n",
       "    }\n",
       "\n",
       "    .dataframe tbody tr th {\n",
       "        vertical-align: top;\n",
       "    }\n",
       "\n",
       "    .dataframe thead th {\n",
       "        text-align: right;\n",
       "    }\n",
       "</style>\n",
       "<table border=\"1\" class=\"dataframe\">\n",
       "  <thead>\n",
       "    <tr style=\"text-align: right;\">\n",
       "      <th></th>\n",
       "      <th>Actual</th>\n",
       "      <th>Predicted</th>\n",
       "    </tr>\n",
       "  </thead>\n",
       "  <tbody>\n",
       "    <tr>\n",
       "      <th>0</th>\n",
       "      <td>449950</td>\n",
       "      <td>513,514</td>\n",
       "    </tr>\n",
       "    <tr>\n",
       "      <th>1</th>\n",
       "      <td>961500</td>\n",
       "      <td>504,919</td>\n",
       "    </tr>\n",
       "    <tr>\n",
       "      <th>2</th>\n",
       "      <td>393000</td>\n",
       "      <td>502,770</td>\n",
       "    </tr>\n",
       "    <tr>\n",
       "      <th>3</th>\n",
       "      <td>500000</td>\n",
       "      <td>479,134</td>\n",
       "    </tr>\n",
       "    <tr>\n",
       "      <th>4</th>\n",
       "      <td>324500</td>\n",
       "      <td>476,985</td>\n",
       "    </tr>\n",
       "    <tr>\n",
       "      <th>...</th>\n",
       "      <td>...</td>\n",
       "      <td>...</td>\n",
       "    </tr>\n",
       "    <tr>\n",
       "      <th>2482</th>\n",
       "      <td>475000</td>\n",
       "      <td>489,877</td>\n",
       "    </tr>\n",
       "    <tr>\n",
       "      <th>2483</th>\n",
       "      <td>499000</td>\n",
       "      <td>524,257</td>\n",
       "    </tr>\n",
       "    <tr>\n",
       "      <th>2484</th>\n",
       "      <td>328000</td>\n",
       "      <td>500,621</td>\n",
       "    </tr>\n",
       "    <tr>\n",
       "      <th>2485</th>\n",
       "      <td>525000</td>\n",
       "      <td>522,108</td>\n",
       "    </tr>\n",
       "    <tr>\n",
       "      <th>2486</th>\n",
       "      <td>625000</td>\n",
       "      <td>530,703</td>\n",
       "    </tr>\n",
       "  </tbody>\n",
       "</table>\n",
       "<p>2487 rows × 2 columns</p>\n",
       "</div>"
      ],
      "text/plain": [
       "      Actual  Predicted\n",
       "0     449950    513,514\n",
       "1     961500    504,919\n",
       "2     393000    502,770\n",
       "3     500000    479,134\n",
       "4     324500    476,985\n",
       "...      ...        ...\n",
       "2482  475000    489,877\n",
       "2483  499000    524,257\n",
       "2484  328000    500,621\n",
       "2485  525000    522,108\n",
       "2486  625000    530,703\n",
       "\n",
       "[2487 rows x 2 columns]"
      ]
     },
     "execution_count": 75,
     "metadata": {},
     "output_type": "execute_result"
    }
   ],
   "source": [
    "data_new_house"
   ]
  },
  {
   "cell_type": "code",
   "execution_count": 76,
   "id": "52d65dd2-ca63-4301-a6e5-38eed5339efa",
   "metadata": {},
   "outputs": [],
   "source": [
    "# Calculate the difference values between actual and predicted values and make it in absolute format\n",
    "data_new_house['different value'] = abs(data_new_house['Actual'] - data_new_house['Predicted'])"
   ]
  },
  {
   "cell_type": "code",
   "execution_count": 77,
   "id": "e2be0982-73c8-4af0-aa36-0ad14d257bc0",
   "metadata": {},
   "outputs": [
    {
     "data": {
      "text/html": [
       "<div>\n",
       "<style scoped>\n",
       "    .dataframe tbody tr th:only-of-type {\n",
       "        vertical-align: middle;\n",
       "    }\n",
       "\n",
       "    .dataframe tbody tr th {\n",
       "        vertical-align: top;\n",
       "    }\n",
       "\n",
       "    .dataframe thead th {\n",
       "        text-align: right;\n",
       "    }\n",
       "</style>\n",
       "<table border=\"1\" class=\"dataframe\">\n",
       "  <thead>\n",
       "    <tr style=\"text-align: right;\">\n",
       "      <th></th>\n",
       "      <th>Actual</th>\n",
       "      <th>Predicted</th>\n",
       "      <th>different value</th>\n",
       "    </tr>\n",
       "  </thead>\n",
       "  <tbody>\n",
       "    <tr>\n",
       "      <th>0</th>\n",
       "      <td>449950</td>\n",
       "      <td>513,514</td>\n",
       "      <td>63,564</td>\n",
       "    </tr>\n",
       "    <tr>\n",
       "      <th>1</th>\n",
       "      <td>961500</td>\n",
       "      <td>504,919</td>\n",
       "      <td>456,581</td>\n",
       "    </tr>\n",
       "    <tr>\n",
       "      <th>2</th>\n",
       "      <td>393000</td>\n",
       "      <td>502,770</td>\n",
       "      <td>109,770</td>\n",
       "    </tr>\n",
       "    <tr>\n",
       "      <th>3</th>\n",
       "      <td>500000</td>\n",
       "      <td>479,134</td>\n",
       "      <td>20,866</td>\n",
       "    </tr>\n",
       "    <tr>\n",
       "      <th>4</th>\n",
       "      <td>324500</td>\n",
       "      <td>476,985</td>\n",
       "      <td>152,485</td>\n",
       "    </tr>\n",
       "  </tbody>\n",
       "</table>\n",
       "</div>"
      ],
      "text/plain": [
       "   Actual  Predicted  different value\n",
       "0  449950    513,514           63,564\n",
       "1  961500    504,919          456,581\n",
       "2  393000    502,770          109,770\n",
       "3  500000    479,134           20,866\n",
       "4  324500    476,985          152,485"
      ]
     },
     "execution_count": 77,
     "metadata": {},
     "output_type": "execute_result"
    }
   ],
   "source": [
    "data_new_house.head()"
   ]
  },
  {
   "cell_type": "code",
   "execution_count": 78,
   "id": "e714bcfc-59d9-4004-96b9-df5ebf8facbb",
   "metadata": {},
   "outputs": [
    {
     "data": {
      "text/plain": [
       "165469.93602639565"
      ]
     },
     "execution_count": 78,
     "metadata": {},
     "output_type": "execute_result"
    }
   ],
   "source": [
    "# Calculate the average value from the entire data of the different value column\n",
    "data_new_house['different value'].mean()"
   ]
  },
  {
   "cell_type": "code",
   "execution_count": 79,
   "id": "8e9f3223-7607-4d31-a2e1-397f9a2e8868",
   "metadata": {},
   "outputs": [
    {
     "data": {
      "text/plain": [
       "503886.3558504222"
      ]
     },
     "execution_count": 79,
     "metadata": {},
     "output_type": "execute_result"
    }
   ],
   "source": [
    "# Calculate the average value from the entire data of the Actual column\n",
    "data_new_house['Actual'].mean()"
   ]
  },
  {
   "cell_type": "code",
   "execution_count": 80,
   "id": "f0975514-6830-42be-92cd-38f13069d4de",
   "metadata": {},
   "outputs": [
    {
     "data": {
      "text/plain": [
       "0.3283874113779638"
      ]
     },
     "execution_count": 80,
     "metadata": {},
     "output_type": "execute_result"
    }
   ],
   "source": [
    "data_new_house['different value'].mean()/data_new_house['Actual'].mean()"
   ]
  },
  {
   "cell_type": "markdown",
   "id": "2d50919c-7007-49aa-99e3-9dfe5f14bbb9",
   "metadata": {},
   "source": [
    "Year built > 1980 has the error gap approximately 32.8% (average value)."
   ]
  },
  {
   "cell_type": "markdown",
   "id": "f88d2635-951b-4c4f-bb0b-8d4ccf258f2c",
   "metadata": {},
   "source": [
    "##### 4.3.6 Insights to the hypothesis 2 (price vs yr_built)"
   ]
  },
  {
   "cell_type": "markdown",
   "id": "104ac21c-2ae4-4f99-a36d-460c6ad8f210",
   "metadata": {},
   "source": [
    "As the hypothesis states, \"Houses with a newer year built (after 1980) are more likely to have higher house prices.\"\n",
    "\n",
    "##### From the analysis, \n",
    "1. It indicates that houses built after 1980 (newer houses) are more likely to be more expensive (prices increase), but the relationship is not very strong.\n",
    "2. On the other hand, houses built before or in 1980 (older houses) are more likely to be less expensive (prices decrease), but again, the relationship is not very strong.\n",
    "\n",
    "##### However, after splitting the data into training and test sets, we can see some noticeable differences between the actual and predicted y values:\n",
    "\n",
    "1. Houses built before or in 1980 have a significant error gap of approximately 36.4%.\n",
    "2. Houses built after 1980 have a significant error gap of approximately 32.8%.\n",
    "\n",
    "Both groups have large error gaps, with houses built after 1980 having a slightly smaller error. However, I still do not feel confident in trusting this model. \n",
    "\n",
    "Similar to the first hypothesis, if I could reduce the error gap to 10% or less, I would feel more confident in trusting the model. Therefore, our next step would be to further develop the model to decrease the error, ensuring users feel confident using it for predictions."
   ]
  },
  {
   "cell_type": "markdown",
   "id": "f0b440c8-165e-43c5-9a4b-850cffea5981",
   "metadata": {},
   "source": [
    "### 5. Reflections on the impact of possible data bias"
   ]
  },
  {
   "cell_type": "markdown",
   "id": "71841d7d-467b-4497-b1c3-3da139134552",
   "metadata": {},
   "source": [
    "The dataset spans from 2014 to part of 2015, which introduces temporal bias due to the data being nearly a decade old. As a result, the trends, behaviors, and conditions captured may no longer accurately reflect the current landscape, potentially undermining the relevance and validity of the insights derived from the data.\n",
    "\n",
    "Additionally, a class imbalance bias may arise in the analysis of Hypothesis 2, where the data is divided into two groups based on the year of construction:\n",
    "\n",
    "Houses built in or before 1980, with 12,573 records.\n",
    "Houses built after 1980, with only 9,039 records.\n",
    "This disparity in the size of the groups (a 25% difference) may lead to a class imbalance. In such cases, models can become biased toward the larger group, which could result in inaccurate predictions for the smaller group. The model might overly emphasize patterns in the majority class, reducing its ability to generalize effectively and leading to a skewed understanding of the minority class."
   ]
  }
 ],
 "metadata": {
  "kernelspec": {
   "display_name": "Python 3 (ipykernel)",
   "language": "python",
   "name": "python3"
  },
  "language_info": {
   "codemirror_mode": {
    "name": "ipython",
    "version": 3
   },
   "file_extension": ".py",
   "mimetype": "text/x-python",
   "name": "python",
   "nbconvert_exporter": "python",
   "pygments_lexer": "ipython3",
   "version": "3.12.4"
  }
 },
 "nbformat": 4,
 "nbformat_minor": 5
}
