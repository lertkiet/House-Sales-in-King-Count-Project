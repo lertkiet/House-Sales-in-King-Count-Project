{
 "cells": [
  {
   "cell_type": "code",
   "execution_count": 1,
   "id": "02ca7103-c736-4e98-be90-67e497c4c5db",
   "metadata": {},
   "outputs": [],
   "source": [
    "import pandas as pd\n",
    "import numpy as np\n",
    "import os"
   ]
  },
  {
   "cell_type": "code",
   "execution_count": 2,
   "id": "717ef811-ec26-4454-b8fe-29bec6bb7ef5",
   "metadata": {},
   "outputs": [],
   "source": [
    "path = r'C:\\Desktop\\Careerfoundry\\2. Data Analytics Immersion\\Achievement 6 - Advanced Analytics & Dashboard Design\\6.1 Sourcing Open Data'"
   ]
  },
  {
   "cell_type": "code",
   "execution_count": 3,
   "id": "8bc333a1-c63c-45f5-9d38-b51b069ee385",
   "metadata": {},
   "outputs": [],
   "source": [
    "df = pd.read_csv(os.path.join(path, '2. Cleaned Dataset.csv'))"
   ]
  },
  {
   "cell_type": "markdown",
   "id": "963a241d-04db-4e9a-bfcd-2b74a8ad79ed",
   "metadata": {},
   "source": [
    "#### Check original data type of each column"
   ]
  },
  {
   "cell_type": "code",
   "execution_count": 4,
   "id": "d7cdbc5f-4ea2-408f-b433-5a408bc4eca8",
   "metadata": {},
   "outputs": [
    {
     "name": "stdout",
     "output_type": "stream",
     "text": [
      "<class 'pandas.core.frame.DataFrame'>\n",
      "RangeIndex: 21612 entries, 0 to 21611\n",
      "Data columns (total 22 columns):\n",
      " #   Column         Non-Null Count  Dtype  \n",
      "---  ------         --------------  -----  \n",
      " 0   id             21612 non-null  int64  \n",
      " 1   date           21612 non-null  object \n",
      " 2   price          21612 non-null  float64\n",
      " 3   bedrooms       21612 non-null  int64  \n",
      " 4   bathrooms      21612 non-null  float64\n",
      " 5   sqft_living    21612 non-null  int64  \n",
      " 6   sqft_lot       21612 non-null  int64  \n",
      " 7   floors         21612 non-null  float64\n",
      " 8   waterfront     21612 non-null  int64  \n",
      " 9   view           21612 non-null  int64  \n",
      " 10  condition      21612 non-null  int64  \n",
      " 11  grade          21612 non-null  int64  \n",
      " 12  sqft_above     21612 non-null  int64  \n",
      " 13  sqft_basement  21612 non-null  int64  \n",
      " 14  yr_built       21612 non-null  int64  \n",
      " 15  yr_renovated   21612 non-null  int64  \n",
      " 16  zipcode        21612 non-null  int64  \n",
      " 17  lat            21612 non-null  float64\n",
      " 18  long           21612 non-null  float64\n",
      " 19  sqft_living15  21612 non-null  int64  \n",
      " 20  sqft_lot15     21612 non-null  int64  \n",
      " 21  City/Town      21612 non-null  object \n",
      "dtypes: float64(5), int64(15), object(2)\n",
      "memory usage: 3.6+ MB\n"
     ]
    }
   ],
   "source": [
    "df.info()"
   ]
  },
  {
   "cell_type": "markdown",
   "id": "a90245d7-8113-4362-8f23-65501b6682e9",
   "metadata": {},
   "source": [
    "Change data type of some columns to to be proper data types"
   ]
  },
  {
   "cell_type": "code",
   "execution_count": 5,
   "id": "1cf54d42-cdfd-4757-8ff7-3c034ff7fa9f",
   "metadata": {},
   "outputs": [],
   "source": [
    "df = df.astype({'id': 'str',\n",
    "                'price': 'int64', \n",
    "                'zipcode': 'str'})"
   ]
  },
  {
   "cell_type": "markdown",
   "id": "2cb6ff9e-d66c-4c16-ad9a-812e3d34ecc3",
   "metadata": {},
   "source": [
    "Change datatype of date column to be datatime datatype as well"
   ]
  },
  {
   "cell_type": "code",
   "execution_count": 6,
   "id": "dd608ec3-a438-4b78-b0d3-bb13fa00d2ec",
   "metadata": {},
   "outputs": [],
   "source": [
    "df['date'] = pd.to_datetime(df['date'], format='%m/%d/%Y')"
   ]
  },
  {
   "cell_type": "markdown",
   "id": "aa246926-30af-4c1f-a8e3-7ea1a7661575",
   "metadata": {},
   "source": [
    "Check datatypes after changing them"
   ]
  },
  {
   "cell_type": "code",
   "execution_count": 7,
   "id": "7f38f9a8-3304-4ddb-9c9d-3320cb244825",
   "metadata": {},
   "outputs": [
    {
     "name": "stdout",
     "output_type": "stream",
     "text": [
      "<class 'pandas.core.frame.DataFrame'>\n",
      "RangeIndex: 21612 entries, 0 to 21611\n",
      "Data columns (total 22 columns):\n",
      " #   Column         Non-Null Count  Dtype         \n",
      "---  ------         --------------  -----         \n",
      " 0   id             21612 non-null  object        \n",
      " 1   date           21612 non-null  datetime64[ns]\n",
      " 2   price          21612 non-null  int64         \n",
      " 3   bedrooms       21612 non-null  int64         \n",
      " 4   bathrooms      21612 non-null  float64       \n",
      " 5   sqft_living    21612 non-null  int64         \n",
      " 6   sqft_lot       21612 non-null  int64         \n",
      " 7   floors         21612 non-null  float64       \n",
      " 8   waterfront     21612 non-null  int64         \n",
      " 9   view           21612 non-null  int64         \n",
      " 10  condition      21612 non-null  int64         \n",
      " 11  grade          21612 non-null  int64         \n",
      " 12  sqft_above     21612 non-null  int64         \n",
      " 13  sqft_basement  21612 non-null  int64         \n",
      " 14  yr_built       21612 non-null  int64         \n",
      " 15  yr_renovated   21612 non-null  int64         \n",
      " 16  zipcode        21612 non-null  object        \n",
      " 17  lat            21612 non-null  float64       \n",
      " 18  long           21612 non-null  float64       \n",
      " 19  sqft_living15  21612 non-null  int64         \n",
      " 20  sqft_lot15     21612 non-null  int64         \n",
      " 21  City/Town      21612 non-null  object        \n",
      "dtypes: datetime64[ns](1), float64(4), int64(14), object(3)\n",
      "memory usage: 3.6+ MB\n"
     ]
    }
   ],
   "source": [
    "df.info()"
   ]
  },
  {
   "cell_type": "markdown",
   "id": "f8fa3cf5-dc93-4a05-9d3e-dbac51c96aeb",
   "metadata": {},
   "source": [
    "#### Now all columns have the datatype as we intended."
   ]
  },
  {
   "cell_type": "markdown",
   "id": "49ea7943-c7ef-4a9b-8a1e-b727eed915ae",
   "metadata": {},
   "source": [
    "Check if data type of 'id' and 'zipcode' columns are string"
   ]
  },
  {
   "cell_type": "code",
   "execution_count": 8,
   "id": "d3bb185c-daaa-4569-aa4d-9d4b8dc7c61f",
   "metadata": {},
   "outputs": [
    {
     "name": "stdout",
     "output_type": "stream",
     "text": [
      "                  id        zipcode\n",
      "0      <class 'str'>  <class 'str'>\n",
      "1      <class 'str'>  <class 'str'>\n",
      "2      <class 'str'>  <class 'str'>\n",
      "3      <class 'str'>  <class 'str'>\n",
      "4      <class 'str'>  <class 'str'>\n",
      "...              ...            ...\n",
      "21607  <class 'str'>  <class 'str'>\n",
      "21608  <class 'str'>  <class 'str'>\n",
      "21609  <class 'str'>  <class 'str'>\n",
      "21610  <class 'str'>  <class 'str'>\n",
      "21611  <class 'str'>  <class 'str'>\n",
      "\n",
      "[21612 rows x 2 columns]\n"
     ]
    },
    {
     "name": "stderr",
     "output_type": "stream",
     "text": [
      "C:\\Users\\boss4048\\AppData\\Local\\Temp\\ipykernel_46804\\3505464097.py:1: FutureWarning: DataFrame.applymap has been deprecated. Use DataFrame.map instead.\n",
      "  print(df[['id', 'zipcode']].applymap(type))\n"
     ]
    }
   ],
   "source": [
    "print(df[['id', 'zipcode']].applymap(type))"
   ]
  },
  {
   "cell_type": "markdown",
   "id": "aa91a483-1f54-496a-9f4f-b2e768d6253a",
   "metadata": {},
   "source": [
    "#### Check for duplicates"
   ]
  },
  {
   "cell_type": "code",
   "execution_count": 9,
   "id": "ae2475e8-030b-4999-9a50-654901041a59",
   "metadata": {},
   "outputs": [],
   "source": [
    "duplicates = df[df.duplicated()]"
   ]
  },
  {
   "cell_type": "code",
   "execution_count": 10,
   "id": "abd31182-67f6-4000-8fe2-a70b3e68b9dd",
   "metadata": {},
   "outputs": [
    {
     "data": {
      "text/html": [
       "<div>\n",
       "<style scoped>\n",
       "    .dataframe tbody tr th:only-of-type {\n",
       "        vertical-align: middle;\n",
       "    }\n",
       "\n",
       "    .dataframe tbody tr th {\n",
       "        vertical-align: top;\n",
       "    }\n",
       "\n",
       "    .dataframe thead th {\n",
       "        text-align: right;\n",
       "    }\n",
       "</style>\n",
       "<table border=\"1\" class=\"dataframe\">\n",
       "  <thead>\n",
       "    <tr style=\"text-align: right;\">\n",
       "      <th></th>\n",
       "      <th>id</th>\n",
       "      <th>date</th>\n",
       "      <th>price</th>\n",
       "      <th>bedrooms</th>\n",
       "      <th>bathrooms</th>\n",
       "      <th>sqft_living</th>\n",
       "      <th>sqft_lot</th>\n",
       "      <th>floors</th>\n",
       "      <th>waterfront</th>\n",
       "      <th>view</th>\n",
       "      <th>...</th>\n",
       "      <th>sqft_above</th>\n",
       "      <th>sqft_basement</th>\n",
       "      <th>yr_built</th>\n",
       "      <th>yr_renovated</th>\n",
       "      <th>zipcode</th>\n",
       "      <th>lat</th>\n",
       "      <th>long</th>\n",
       "      <th>sqft_living15</th>\n",
       "      <th>sqft_lot15</th>\n",
       "      <th>City/Town</th>\n",
       "    </tr>\n",
       "  </thead>\n",
       "  <tbody>\n",
       "  </tbody>\n",
       "</table>\n",
       "<p>0 rows × 22 columns</p>\n",
       "</div>"
      ],
      "text/plain": [
       "Empty DataFrame\n",
       "Columns: [id, date, price, bedrooms, bathrooms, sqft_living, sqft_lot, floors, waterfront, view, condition, grade, sqft_above, sqft_basement, yr_built, yr_renovated, zipcode, lat, long, sqft_living15, sqft_lot15, City/Town]\n",
       "Index: []\n",
       "\n",
       "[0 rows x 22 columns]"
      ]
     },
     "execution_count": 10,
     "metadata": {},
     "output_type": "execute_result"
    }
   ],
   "source": [
    "duplicates"
   ]
  },
  {
   "cell_type": "markdown",
   "id": "a9f5bdd6-e678-4ea6-b1ac-fb910cdc69d4",
   "metadata": {},
   "source": [
    "There are no duplicates found."
   ]
  },
  {
   "cell_type": "code",
   "execution_count": 11,
   "id": "c579da49-a1c2-4f38-87b7-e7f03462e677",
   "metadata": {},
   "outputs": [],
   "source": [
    "df.to_csv(os.path.join(path, '4. Cleaned Dateset with Python.csv'))"
   ]
  }
 ],
 "metadata": {
  "kernelspec": {
   "display_name": "Python 3 (ipykernel)",
   "language": "python",
   "name": "python3"
  },
  "language_info": {
   "codemirror_mode": {
    "name": "ipython",
    "version": 3
   },
   "file_extension": ".py",
   "mimetype": "text/x-python",
   "name": "python",
   "nbconvert_exporter": "python",
   "pygments_lexer": "ipython3",
   "version": "3.12.4"
  }
 },
 "nbformat": 4,
 "nbformat_minor": 5
}
